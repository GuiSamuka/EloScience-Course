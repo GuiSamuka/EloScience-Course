{
  "nbformat": 4,
  "nbformat_minor": 0,
  "metadata": {
    "colab": {
      "name": "04 - Machine Learning.ipynb",
      "provenance": [],
      "collapsed_sections": [],
      "toc_visible": true,
      "mount_file_id": "1o98jsvOWIwvE2kUCa3qn51O5fUEc9xsH",
      "authorship_tag": "ABX9TyMsl2/R7etL8TpjmvS5opA9",
      "include_colab_link": true
    },
    "kernelspec": {
      "name": "python3",
      "display_name": "Python 3"
    }
  },
  "cells": [
    {
      "cell_type": "markdown",
      "metadata": {
        "id": "view-in-github",
        "colab_type": "text"
      },
      "source": [
        "<a href=\"https://colab.research.google.com/github/GuiSamuka/EloScience-Course/blob/main/04_Machine_Learning.ipynb\" target=\"_parent\"><img src=\"https://colab.research.google.com/assets/colab-badge.svg\" alt=\"Open In Colab\"/></a>"
      ]
    },
    {
      "cell_type": "markdown",
      "metadata": {
        "id": "wjNb7cwJR1t1"
      },
      "source": [
        "# **Task 1 - Importar bibliotecas e dados**"
      ]
    },
    {
      "cell_type": "code",
      "metadata": {
        "id": "kZgT2SGEZyzN"
      },
      "source": [
        "import pandas as pd\r\n",
        "import numpy as np\r\n",
        "import matplotlib.pyplot as plt\r\n",
        "import seaborn as sns"
      ],
      "execution_count": 1,
      "outputs": []
    },
    {
      "cell_type": "code",
      "metadata": {
        "colab": {
          "base_uri": "https://localhost:8080/",
          "height": 204
        },
        "id": "YXqbyzn8Z6KM",
        "outputId": "c1052ad6-1f53-46e8-c4ac-9a6087933d9a"
      },
      "source": [
        "dados = pd.read_csv('/content/drive/MyDrive/Colab Notebooks/Elo Science - Semana Data Science/sds_fifa_atualizado.csv')\r\n",
        "dados.head()"
      ],
      "execution_count": 2,
      "outputs": [
        {
          "output_type": "execute_result",
          "data": {
            "text/html": [
              "<div>\n",
              "<style scoped>\n",
              "    .dataframe tbody tr th:only-of-type {\n",
              "        vertical-align: middle;\n",
              "    }\n",
              "\n",
              "    .dataframe tbody tr th {\n",
              "        vertical-align: top;\n",
              "    }\n",
              "\n",
              "    .dataframe thead th {\n",
              "        text-align: right;\n",
              "    }\n",
              "</style>\n",
              "<table border=\"1\" class=\"dataframe\">\n",
              "  <thead>\n",
              "    <tr style=\"text-align: right;\">\n",
              "      <th></th>\n",
              "      <th>Nome</th>\n",
              "      <th>Idade</th>\n",
              "      <th>Posicao</th>\n",
              "      <th>Media</th>\n",
              "      <th>Potencial</th>\n",
              "      <th>Time</th>\n",
              "      <th>Salario</th>\n",
              "      <th>Total_Pontos</th>\n",
              "    </tr>\n",
              "  </thead>\n",
              "  <tbody>\n",
              "    <tr>\n",
              "      <th>0</th>\n",
              "      <td>G. Obertan</td>\n",
              "      <td>31</td>\n",
              "      <td>CAM</td>\n",
              "      <td>69</td>\n",
              "      <td>69</td>\n",
              "      <td>BB Erzurumspor</td>\n",
              "      <td>7000</td>\n",
              "      <td>1753</td>\n",
              "    </tr>\n",
              "    <tr>\n",
              "      <th>1</th>\n",
              "      <td>P. Foden</td>\n",
              "      <td>20</td>\n",
              "      <td>CAM</td>\n",
              "      <td>81</td>\n",
              "      <td>91</td>\n",
              "      <td>Manchester City</td>\n",
              "      <td>95000</td>\n",
              "      <td>1997</td>\n",
              "    </tr>\n",
              "    <tr>\n",
              "      <th>2</th>\n",
              "      <td>S. García</td>\n",
              "      <td>29</td>\n",
              "      <td>ST</td>\n",
              "      <td>74</td>\n",
              "      <td>74</td>\n",
              "      <td>Godoy Cruz</td>\n",
              "      <td>12000</td>\n",
              "      <td>1847</td>\n",
              "    </tr>\n",
              "    <tr>\n",
              "      <th>3</th>\n",
              "      <td>Trincão</td>\n",
              "      <td>20</td>\n",
              "      <td>RW</td>\n",
              "      <td>77</td>\n",
              "      <td>87</td>\n",
              "      <td>FC Barcelona</td>\n",
              "      <td>95000</td>\n",
              "      <td>1906</td>\n",
              "    </tr>\n",
              "    <tr>\n",
              "      <th>4</th>\n",
              "      <td>A. Gignac</td>\n",
              "      <td>34</td>\n",
              "      <td>ST</td>\n",
              "      <td>81</td>\n",
              "      <td>81</td>\n",
              "      <td>Tigres U.A.N.L.</td>\n",
              "      <td>66000</td>\n",
              "      <td>2018</td>\n",
              "    </tr>\n",
              "  </tbody>\n",
              "</table>\n",
              "</div>"
            ],
            "text/plain": [
              "          Nome  Idade Posicao  ...             Time  Salario Total_Pontos\n",
              "0   G. Obertan     31     CAM  ...   BB Erzurumspor     7000         1753\n",
              "1     P. Foden     20     CAM  ...  Manchester City    95000         1997\n",
              "2    S. García     29      ST  ...       Godoy Cruz    12000         1847\n",
              "3      Trincão     20      RW  ...     FC Barcelona    95000         1906\n",
              "4    A. Gignac     34      ST  ...  Tigres U.A.N.L.    66000         2018\n",
              "\n",
              "[5 rows x 8 columns]"
            ]
          },
          "metadata": {
            "tags": []
          },
          "execution_count": 2
        }
      ]
    },
    {
      "cell_type": "markdown",
      "metadata": {
        "id": "kJkh9zfXRwpS"
      },
      "source": [
        "# **Task 2 - Pré-Processamento dos Dados**"
      ]
    },
    {
      "cell_type": "code",
      "metadata": {
        "colab": {
          "base_uri": "https://localhost:8080/"
        },
        "id": "BqXahKSJaJWo",
        "outputId": "43e83190-16ca-41a0-ef06-7b2506b58a1f"
      },
      "source": [
        "dados.columns"
      ],
      "execution_count": 3,
      "outputs": [
        {
          "output_type": "execute_result",
          "data": {
            "text/plain": [
              "Index(['Nome', 'Idade', 'Posicao', 'Media', 'Potencial', 'Time', 'Salario',\n",
              "       'Total_Pontos'],\n",
              "      dtype='object')"
            ]
          },
          "metadata": {
            "tags": []
          },
          "execution_count": 3
        }
      ]
    },
    {
      "cell_type": "code",
      "metadata": {
        "id": "oS2CF3AGaL9L"
      },
      "source": [
        "colunas = ['Nome', 'Time']"
      ],
      "execution_count": 4,
      "outputs": []
    },
    {
      "cell_type": "code",
      "metadata": {
        "id": "zIUsLObsaUyx"
      },
      "source": [
        "dados.drop(colunas, axis=1, inplace=True)"
      ],
      "execution_count": 5,
      "outputs": []
    },
    {
      "cell_type": "code",
      "metadata": {
        "colab": {
          "base_uri": "https://localhost:8080/",
          "height": 204
        },
        "id": "sIQc04zpabO-",
        "outputId": "ad2cf47e-cd86-468b-cd5e-83e00620d10b"
      },
      "source": [
        "dados.head()"
      ],
      "execution_count": 6,
      "outputs": [
        {
          "output_type": "execute_result",
          "data": {
            "text/html": [
              "<div>\n",
              "<style scoped>\n",
              "    .dataframe tbody tr th:only-of-type {\n",
              "        vertical-align: middle;\n",
              "    }\n",
              "\n",
              "    .dataframe tbody tr th {\n",
              "        vertical-align: top;\n",
              "    }\n",
              "\n",
              "    .dataframe thead th {\n",
              "        text-align: right;\n",
              "    }\n",
              "</style>\n",
              "<table border=\"1\" class=\"dataframe\">\n",
              "  <thead>\n",
              "    <tr style=\"text-align: right;\">\n",
              "      <th></th>\n",
              "      <th>Idade</th>\n",
              "      <th>Posicao</th>\n",
              "      <th>Media</th>\n",
              "      <th>Potencial</th>\n",
              "      <th>Salario</th>\n",
              "      <th>Total_Pontos</th>\n",
              "    </tr>\n",
              "  </thead>\n",
              "  <tbody>\n",
              "    <tr>\n",
              "      <th>0</th>\n",
              "      <td>31</td>\n",
              "      <td>CAM</td>\n",
              "      <td>69</td>\n",
              "      <td>69</td>\n",
              "      <td>7000</td>\n",
              "      <td>1753</td>\n",
              "    </tr>\n",
              "    <tr>\n",
              "      <th>1</th>\n",
              "      <td>20</td>\n",
              "      <td>CAM</td>\n",
              "      <td>81</td>\n",
              "      <td>91</td>\n",
              "      <td>95000</td>\n",
              "      <td>1997</td>\n",
              "    </tr>\n",
              "    <tr>\n",
              "      <th>2</th>\n",
              "      <td>29</td>\n",
              "      <td>ST</td>\n",
              "      <td>74</td>\n",
              "      <td>74</td>\n",
              "      <td>12000</td>\n",
              "      <td>1847</td>\n",
              "    </tr>\n",
              "    <tr>\n",
              "      <th>3</th>\n",
              "      <td>20</td>\n",
              "      <td>RW</td>\n",
              "      <td>77</td>\n",
              "      <td>87</td>\n",
              "      <td>95000</td>\n",
              "      <td>1906</td>\n",
              "    </tr>\n",
              "    <tr>\n",
              "      <th>4</th>\n",
              "      <td>34</td>\n",
              "      <td>ST</td>\n",
              "      <td>81</td>\n",
              "      <td>81</td>\n",
              "      <td>66000</td>\n",
              "      <td>2018</td>\n",
              "    </tr>\n",
              "  </tbody>\n",
              "</table>\n",
              "</div>"
            ],
            "text/plain": [
              "   Idade Posicao  Media  Potencial  Salario  Total_Pontos\n",
              "0     31     CAM     69         69     7000          1753\n",
              "1     20     CAM     81         91    95000          1997\n",
              "2     29      ST     74         74    12000          1847\n",
              "3     20      RW     77         87    95000          1906\n",
              "4     34      ST     81         81    66000          2018"
            ]
          },
          "metadata": {
            "tags": []
          },
          "execution_count": 6
        }
      ]
    },
    {
      "cell_type": "code",
      "metadata": {
        "colab": {
          "base_uri": "https://localhost:8080/",
          "height": 204
        },
        "id": "5SeItXMnaeIu",
        "outputId": "c01d0bf0-40e4-48d9-bd9b-457962e367b3"
      },
      "source": [
        "dados = dados[ ['Idade', 'Posicao', 'Media', 'Potencial', 'Total_Pontos', 'Salario'] ]\r\n",
        "dados.head()"
      ],
      "execution_count": 7,
      "outputs": [
        {
          "output_type": "execute_result",
          "data": {
            "text/html": [
              "<div>\n",
              "<style scoped>\n",
              "    .dataframe tbody tr th:only-of-type {\n",
              "        vertical-align: middle;\n",
              "    }\n",
              "\n",
              "    .dataframe tbody tr th {\n",
              "        vertical-align: top;\n",
              "    }\n",
              "\n",
              "    .dataframe thead th {\n",
              "        text-align: right;\n",
              "    }\n",
              "</style>\n",
              "<table border=\"1\" class=\"dataframe\">\n",
              "  <thead>\n",
              "    <tr style=\"text-align: right;\">\n",
              "      <th></th>\n",
              "      <th>Idade</th>\n",
              "      <th>Posicao</th>\n",
              "      <th>Media</th>\n",
              "      <th>Potencial</th>\n",
              "      <th>Total_Pontos</th>\n",
              "      <th>Salario</th>\n",
              "    </tr>\n",
              "  </thead>\n",
              "  <tbody>\n",
              "    <tr>\n",
              "      <th>0</th>\n",
              "      <td>31</td>\n",
              "      <td>CAM</td>\n",
              "      <td>69</td>\n",
              "      <td>69</td>\n",
              "      <td>1753</td>\n",
              "      <td>7000</td>\n",
              "    </tr>\n",
              "    <tr>\n",
              "      <th>1</th>\n",
              "      <td>20</td>\n",
              "      <td>CAM</td>\n",
              "      <td>81</td>\n",
              "      <td>91</td>\n",
              "      <td>1997</td>\n",
              "      <td>95000</td>\n",
              "    </tr>\n",
              "    <tr>\n",
              "      <th>2</th>\n",
              "      <td>29</td>\n",
              "      <td>ST</td>\n",
              "      <td>74</td>\n",
              "      <td>74</td>\n",
              "      <td>1847</td>\n",
              "      <td>12000</td>\n",
              "    </tr>\n",
              "    <tr>\n",
              "      <th>3</th>\n",
              "      <td>20</td>\n",
              "      <td>RW</td>\n",
              "      <td>77</td>\n",
              "      <td>87</td>\n",
              "      <td>1906</td>\n",
              "      <td>95000</td>\n",
              "    </tr>\n",
              "    <tr>\n",
              "      <th>4</th>\n",
              "      <td>34</td>\n",
              "      <td>ST</td>\n",
              "      <td>81</td>\n",
              "      <td>81</td>\n",
              "      <td>2018</td>\n",
              "      <td>66000</td>\n",
              "    </tr>\n",
              "  </tbody>\n",
              "</table>\n",
              "</div>"
            ],
            "text/plain": [
              "   Idade Posicao  Media  Potencial  Total_Pontos  Salario\n",
              "0     31     CAM     69         69          1753     7000\n",
              "1     20     CAM     81         91          1997    95000\n",
              "2     29      ST     74         74          1847    12000\n",
              "3     20      RW     77         87          1906    95000\n",
              "4     34      ST     81         81          2018    66000"
            ]
          },
          "metadata": {
            "tags": []
          },
          "execution_count": 7
        }
      ]
    },
    {
      "cell_type": "code",
      "metadata": {
        "id": "8MoD-NM2awpG"
      },
      "source": [
        "# Classe previsora\r\n",
        "X = dados.iloc[:, :-1].values"
      ],
      "execution_count": 8,
      "outputs": []
    },
    {
      "cell_type": "code",
      "metadata": {
        "id": "aIGf8CT8a8og"
      },
      "source": [
        "# Target\r\n",
        "y = dados.iloc[:, -1].values"
      ],
      "execution_count": 9,
      "outputs": []
    },
    {
      "cell_type": "code",
      "metadata": {
        "id": "lN-1InfQbbo_"
      },
      "source": [
        "from sklearn.compose import ColumnTransformer\r\n",
        "from sklearn.preprocessing import OneHotEncoder\r\n",
        "ct = ColumnTransformer([('encoder', OneHotEncoder(), [1] )], remainder='passthrough')  #[1] é para aplicar a transformação na coluna 1, ou seja, Posicao\r\n",
        "X = ct.fit_transform(X).toarray()"
      ],
      "execution_count": 10,
      "outputs": []
    },
    {
      "cell_type": "code",
      "metadata": {
        "colab": {
          "base_uri": "https://localhost:8080/"
        },
        "id": "ANg2abC6conJ",
        "outputId": "250b8eda-20bc-4bfa-8891-cc89b1153ba1"
      },
      "source": [
        "print(X)"
      ],
      "execution_count": 11,
      "outputs": [
        {
          "output_type": "stream",
          "text": [
            "[[1.000e+00 0.000e+00 0.000e+00 ... 6.900e+01 6.900e+01 1.753e+03]\n",
            " [1.000e+00 0.000e+00 0.000e+00 ... 8.100e+01 9.100e+01 1.997e+03]\n",
            " [0.000e+00 0.000e+00 0.000e+00 ... 7.400e+01 7.400e+01 1.847e+03]\n",
            " ...\n",
            " [1.000e+00 0.000e+00 0.000e+00 ... 7.300e+01 8.500e+01 1.719e+03]\n",
            " [0.000e+00 0.000e+00 0.000e+00 ... 7.900e+01 8.500e+01 2.176e+03]\n",
            " [0.000e+00 1.000e+00 0.000e+00 ... 7.500e+01 8.500e+01 1.693e+03]]\n"
          ],
          "name": "stdout"
        }
      ]
    },
    {
      "cell_type": "markdown",
      "metadata": {
        "id": "wcwD-WNSR4_m"
      },
      "source": [
        "# **Task 3 - Criar modelo de Machine Learning**"
      ]
    },
    {
      "cell_type": "code",
      "metadata": {
        "id": "-RqbWScEbacA"
      },
      "source": [
        "from sklearn.model_selection import train_test_split\r\n",
        "X_train, X_test, y_train, y_test = train_test_split(X, y, test_size=0.2, random_state=0)"
      ],
      "execution_count": 12,
      "outputs": []
    },
    {
      "cell_type": "code",
      "metadata": {
        "id": "TrRe0Hg1dDhn"
      },
      "source": [
        "from sklearn.linear_model import LinearRegression\r\n",
        "regressor = LinearRegression()"
      ],
      "execution_count": 13,
      "outputs": []
    },
    {
      "cell_type": "code",
      "metadata": {
        "colab": {
          "base_uri": "https://localhost:8080/"
        },
        "id": "ni_0rwTQd3v0",
        "outputId": "fd2e605e-6e51-44b2-efb9-e7e80673384e"
      },
      "source": [
        "regressor.fit(X_train, y_train)"
      ],
      "execution_count": 14,
      "outputs": [
        {
          "output_type": "execute_result",
          "data": {
            "text/plain": [
              "LinearRegression(copy_X=True, fit_intercept=True, n_jobs=None, normalize=False)"
            ]
          },
          "metadata": {
            "tags": []
          },
          "execution_count": 14
        }
      ]
    },
    {
      "cell_type": "code",
      "metadata": {
        "colab": {
          "base_uri": "https://localhost:8080/"
        },
        "id": "QkuCUx2qdDdD",
        "outputId": "1b477353-3bc5-4a9f-9d02-806fc9fd40cb"
      },
      "source": [
        "y_pred = regressor.predict(X_test)\r\n",
        "np.set_printoptions(precision=2)\r\n",
        "print(np.concatenate((y_pred.reshape(len(y_pred), 1), y_test.reshape(len(y_test), 1)), 1))"
      ],
      "execution_count": 15,
      "outputs": [
        {
          "output_type": "stream",
          "text": [
            "[[125653.76  76000.  ]\n",
            " [ 55456.8   39000.  ]\n",
            " [ 87930.4   90000.  ]\n",
            " [ 50363.35  14000.  ]\n",
            " [ 57143.88  44000.  ]\n",
            " [288521.8   54000.  ]\n",
            " [ 31229.    18000.  ]\n",
            " [104442.25 110000.  ]\n",
            " [-21512.49    500.  ]\n",
            " [ 83075.48  58000.  ]\n",
            " [  8059.48  42000.  ]\n",
            " [ 47005.85  59000.  ]\n",
            " [ 53049.79  12000.  ]\n",
            " [  7790.62  25000.  ]\n",
            " [  8059.48  42000.  ]\n",
            " [100060.66 100000.  ]\n",
            " [110312.15 110000.  ]\n",
            " [ 28097.64  25000.  ]\n",
            " [-19108.4    1000.  ]\n",
            " [130942.71 155000.  ]\n",
            " [170462.58 270000.  ]\n",
            " [ 35012.01  17000.  ]\n",
            " [ 20227.7   50000.  ]\n",
            " [ 76149.95  40000.  ]\n",
            " [247562.55 250000.  ]]\n"
          ],
          "name": "stdout"
        }
      ]
    },
    {
      "cell_type": "code",
      "metadata": {
        "colab": {
          "base_uri": "https://localhost:8080/"
        },
        "id": "JkoL2ef0dDYx",
        "outputId": "fa7faaa6-943f-499f-cdb9-aa3575e3ac4e"
      },
      "source": [
        "# 31,6% de precisão\r\n",
        "regressor.score(X_test, y_test)"
      ],
      "execution_count": 16,
      "outputs": [
        {
          "output_type": "execute_result",
          "data": {
            "text/plain": [
              "0.31668494293639604"
            ]
          },
          "metadata": {
            "tags": []
          },
          "execution_count": 16
        }
      ]
    },
    {
      "cell_type": "code",
      "metadata": {
        "id": "GQh0aff1foAb"
      },
      "source": [
        "importancia = regressor.coef_"
      ],
      "execution_count": 17,
      "outputs": []
    },
    {
      "cell_type": "code",
      "metadata": {
        "colab": {
          "base_uri": "https://localhost:8080/",
          "height": 571
        },
        "id": "eopfIeqvfhD1",
        "outputId": "762a92a7-dcd0-4407-8251-542744de2f4f"
      },
      "source": [
        "for i, v in enumerate(importancia):\r\n",
        "  print('Feature: %0d, Score: %.5f' %(i, v) )\r\n",
        "\r\n",
        "plt.bar([x for x in range(len(importancia))], importancia)\r\n",
        "plt.show()"
      ],
      "execution_count": 22,
      "outputs": [
        {
          "output_type": "stream",
          "text": [
            "Feature: 0, Score: 15122.40656\n",
            "Feature: 1, Score: -14116.60517\n",
            "Feature: 2, Score: -22937.33477\n",
            "Feature: 3, Score: -36696.09349\n",
            "Feature: 4, Score: 35970.54829\n",
            "Feature: 5, Score: -81631.95884\n",
            "Feature: 6, Score: -3706.21124\n",
            "Feature: 7, Score: 30649.29486\n",
            "Feature: 8, Score: 13093.39655\n",
            "Feature: 9, Score: 1604.73271\n",
            "Feature: 10, Score: 14802.43145\n",
            "Feature: 11, Score: 40248.04332\n",
            "Feature: 12, Score: 15183.80357\n",
            "Feature: 13, Score: -7586.45380\n",
            "Feature: 14, Score: 14285.33750\n",
            "Feature: 15, Score: 4576.49449\n",
            "Feature: 16, Score: 7706.43132\n",
            "Feature: 17, Score: -97.70114\n"
          ],
          "name": "stdout"
        },
        {
          "output_type": "display_data",
          "data": {
            "image/png": "[encoded data removed]",
            "text/plain": [
              "<Figure size 432x288 with 1 Axes>"
            ]
          },
          "metadata": {
            "tags": [],
            "needs_background": "light"
          }
        }
      ]
    },
    {
      "cell_type": "code",
      "metadata": {
        "colab": {
          "base_uri": "https://localhost:8080/",
          "height": 300
        },
        "id": "twteSaJHgRC-",
        "outputId": "41eed7b1-be19-47e7-f15b-ae5b21326b08"
      },
      "source": [
        "sns.regplot(x='Potencial', y='Salario', data=dados)"
      ],
      "execution_count": 19,
      "outputs": [
        {
          "output_type": "execute_result",
          "data": {
            "text/plain": [
              "<matplotlib.axes._subplots.AxesSubplot at 0x7f5da1a8a978>"
            ]
          },
          "metadata": {
            "tags": []
          },
          "execution_count": 19
        },
        {
          "output_type": "display_data",
          "data": {
            "image/png": "[encoded data removed]",
            "text/plain": [
              "<Figure size 432x288 with 1 Axes>"
            ]
          },
          "metadata": {
            "tags": [],
            "needs_background": "light"
          }
        }
      ]
    },
    {
      "cell_type": "code",
      "metadata": {
        "colab": {
          "base_uri": "https://localhost:8080/",
          "height": 400
        },
        "id": "gGb3sk_jgluE",
        "outputId": "271e4bee-9b86-44ee-dd85-c1db4929b886"
      },
      "source": [
        "sns.lmplot(x='Media', y='Salario', data=dados, x_estimator=np.mean)"
      ],
      "execution_count": 20,
      "outputs": [
        {
          "output_type": "execute_result",
          "data": {
            "text/plain": [
              "<seaborn.axisgrid.FacetGrid at 0x7f5da1a8ad68>"
            ]
          },
          "metadata": {
            "tags": []
          },
          "execution_count": 20
        },
        {
          "output_type": "display_data",
          "data": {
            "image/png": "[encoded data removed]",
            "text/plain": [
              "<Figure size 360x360 with 1 Axes>"
            ]
          },
          "metadata": {
            "tags": [],
            "needs_background": "light"
          }
        }
      ]
    },
    {
      "cell_type": "code",
      "metadata": {
        "colab": {
          "base_uri": "https://localhost:8080/",
          "height": 458
        },
        "id": "nk2H0Qq6g2Nf",
        "outputId": "f7de51d5-320c-45c4-9688-b9cca68053ab"
      },
      "source": [
        "sns.jointplot(x='Potencial', y='Salario', data=dados, kind='reg')"
      ],
      "execution_count": 21,
      "outputs": [
        {
          "output_type": "execute_result",
          "data": {
            "text/plain": [
              "<seaborn.axisgrid.JointGrid at 0x7f5d98ecd160>"
            ]
          },
          "metadata": {
            "tags": []
          },
          "execution_count": 21
        },
        {
          "output_type": "display_data",
          "data": {
            "image/png": "[encoded data removed]",
            "text/plain": [
              "<Figure size 432x432 with 3 Axes>"
            ]
          },
          "metadata": {
            "tags": [],
            "needs_background": "light"
          }
        }
      ]
    }
  ]
}