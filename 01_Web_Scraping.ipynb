{
  "nbformat": 4,
  "nbformat_minor": 0,
  "metadata": {
    "colab": {
      "name": "01 - Web Scraping.ipynb",
      "provenance": [],
      "collapsed_sections": [],
      "toc_visible": true,
      "mount_file_id": "1E5ivJS5qGDSRIGwtA68DLI6uqlUey5x5",
      "authorship_tag": "ABX9TyOMFEq1G9i4v3E29sJTFAST",
      "include_colab_link": true
    },
    "kernelspec": {
      "name": "python3",
      "display_name": "Python 3"
    }
  },
  "cells": [
    {
      "cell_type": "markdown",
      "metadata": {
        "id": "view-in-github",
        "colab_type": "text"
      },
      "source": [
        "<a href=\"https://colab.research.google.com/github/GuiSamuka/EloScience-Course/blob/main/01_Web_Scraping.ipynb\" target=\"_parent\"><img src=\"https://colab.research.google.com/assets/colab-badge.svg\" alt=\"Open In Colab\"/></a>"
      ]
    },
    {
      "cell_type": "markdown",
      "metadata": {
        "id": "gOaOiyWPKkVi"
      },
      "source": [
        "# **Task 1 - Importas as bibiotecas**"
      ]
    },
    {
      "cell_type": "code",
      "metadata": {
        "id": "dpdvKCwMnAs_"
      },
      "source": [
        "# dataframes e manipulações\r\n",
        "import pandas as pd\r\n",
        "\r\n",
        "# requisitar dados do site\r\n",
        "import requests\r\n",
        "\r\n",
        "# inspecionar HTML\r\n",
        "from bs4 import BeautifulSoup"
      ],
      "execution_count": null,
      "outputs": []
    },
    {
      "cell_type": "markdown",
      "metadata": {
        "id": "GxqeTY2CnzE7"
      },
      "source": [
        "# **Task 2 - Obter os dados dos jogadores**"
      ]
    },
    {
      "cell_type": "code",
      "metadata": {
        "id": "BAk89xeyn2Is"
      },
      "source": [
        "url = 'https://sofifa.com/players?offset='"
      ],
      "execution_count": null,
      "outputs": []
    },
    {
      "cell_type": "code",
      "metadata": {
        "id": "9Jp8Kj6joMl3"
      },
      "source": [
        "colunas = ['Nome', 'Idade', 'Posicao', 'Media', 'Potencial', 'Time', 'Salario', 'Total_Pontos']"
      ],
      "execution_count": null,
      "outputs": []
    },
    {
      "cell_type": "code",
      "metadata": {
        "id": "gBdhyBEDo1mp",
        "colab": {
          "base_uri": "https://localhost:8080/",
          "height": 49
        },
        "outputId": "82c843f8-1ac7-4f1b-f16c-40babdd981de"
      },
      "source": [
        "dados = pd.DataFrame(columns=colunas)\r\n",
        "dados.head()"
      ],
      "execution_count": null,
      "outputs": [
        {
          "output_type": "execute_result",
          "data": {
            "text/html": [
              "<div>\n",
              "<style scoped>\n",
              "    .dataframe tbody tr th:only-of-type {\n",
              "        vertical-align: middle;\n",
              "    }\n",
              "\n",
              "    .dataframe tbody tr th {\n",
              "        vertical-align: top;\n",
              "    }\n",
              "\n",
              "    .dataframe thead th {\n",
              "        text-align: right;\n",
              "    }\n",
              "</style>\n",
              "<table border=\"1\" class=\"dataframe\">\n",
              "  <thead>\n",
              "    <tr style=\"text-align: right;\">\n",
              "      <th></th>\n",
              "      <th>Nome</th>\n",
              "      <th>Idade</th>\n",
              "      <th>Posicao</th>\n",
              "      <th>Media</th>\n",
              "      <th>Potencial</th>\n",
              "      <th>Time</th>\n",
              "      <th>Salario</th>\n",
              "      <th>Total_Pontos</th>\n",
              "    </tr>\n",
              "  </thead>\n",
              "  <tbody>\n",
              "  </tbody>\n",
              "</table>\n",
              "</div>"
            ],
            "text/plain": [
              "Empty DataFrame\n",
              "Columns: [Nome, Idade, Posicao, Media, Potencial, Time, Salario, Total_Pontos]\n",
              "Index: []"
            ]
          },
          "metadata": {
            "tags": []
          },
          "execution_count": 4
        }
      ]
    },
    {
      "cell_type": "code",
      "metadata": {
        "id": "t3juLT1opHLO"
      },
      "source": [
        "for offset in range(0,100):\r\n",
        "  url = url + str(offset*61)\r\n",
        "  p_html = requests.get(url)\r\n",
        "  p_soup = p_html.text\r\n",
        "  data = BeautifulSoup(p_soup, 'html.parser')\r\n",
        "  table = data.find('tbody')\r\n",
        "  for i in table.findAll('tr'):\r\n",
        "    td = i.findAll('td')\r\n",
        "    Nome = td[1].findAll('a')[0].text\r\n",
        "    Idade  = td[2].text\r\n",
        "    Posicao = td[1].findAll('a')[1].text\r\n",
        "    Media = td[3].find('span').text\r\n",
        "    Potencial = td[4].find('span').text\r\n",
        "    Time = td[5].find('a').text\r\n",
        "    Salario = td[7].text.strip() \r\n",
        "    Total_Pontos = td[8].text.strip()\r\n",
        "\r\n",
        "    dados_jogadores = pd.DataFrame([[Nome, Idade, Posicao, Media, Potencial, Time, Salario, Total_Pontos]])\r\n",
        "\r\n",
        "    dados_jogadores.columns = colunas\r\n",
        "    \r\n",
        "    dados = dados.append(dados_jogadores, ignore_index=True)"
      ],
      "execution_count": null,
      "outputs": []
    },
    {
      "cell_type": "code",
      "metadata": {
        "colab": {
          "base_uri": "https://localhost:8080/"
        },
        "id": "12NJwlpit2va",
        "outputId": "81248c43-0140-48b1-e1be-b45f1af3f7fc"
      },
      "source": [
        "print(dados)"
      ],
      "execution_count": null,
      "outputs": [
        {
          "output_type": "stream",
          "text": [
            "                Nome Idade Posicao  ...               Time Salario Total_Pontos\n",
            "0         G. Obertan    31     CAM  ...     BB Erzurumspor     €7K         1753\n",
            "1           P. Foden    20     CAM  ...    Manchester City    €95K         1997\n",
            "2          S. García    29      ST  ...         Godoy Cruz    €12K         1847\n",
            "3            Trincão    20      RW  ...       FC Barcelona    €95K         1906\n",
            "4          A. Gignac    34      ST  ...    Tigres U.A.N.L.    €66K         2018\n",
            "...              ...   ...     ...  ...                ...     ...          ...\n",
            "5995   D. Szoboszlai    19     CAM  ...         RB Leipzig    €27K         1967\n",
            "5996   J. Bellingham    17      CM  ...  Borussia Dortmund     €6K         1962\n",
            "5997      K. Havertz    21     CAM  ...            Chelsea    €95K         2048\n",
            "5998       T. Almada    19     CAM  ...    Vélez Sarsfield     €9K         2001\n",
            "5999         Emerson    21      RB  ...         Real Betis    €17K         2011\n",
            "\n",
            "[6000 rows x 8 columns]\n"
          ],
          "name": "stdout"
        }
      ]
    },
    {
      "cell_type": "markdown",
      "metadata": {
        "id": "rrPeElqtuRhb"
      },
      "source": [
        "# **Task 3 - Exportar os nossos dados**"
      ]
    },
    {
      "cell_type": "code",
      "metadata": {
        "id": "DcEa1NxSuUN3"
      },
      "source": [
        "dados.to_csv('sds_fifa.csv', encoding='utf-8', index=False)"
      ],
      "execution_count": null,
      "outputs": []
    },
    {
      "cell_type": "code",
      "metadata": {
        "colab": {
          "base_uri": "https://localhost:8080/",
          "height": 204
        },
        "id": "zwyDuMtg_cyA",
        "outputId": "524c6f5b-6b70-4ff2-a5bd-ebc4b9717fc6"
      },
      "source": [
        "dados.head()"
      ],
      "execution_count": null,
      "outputs": [
        {
          "output_type": "execute_result",
          "data": {
            "text/html": [
              "<div>\n",
              "<style scoped>\n",
              "    .dataframe tbody tr th:only-of-type {\n",
              "        vertical-align: middle;\n",
              "    }\n",
              "\n",
              "    .dataframe tbody tr th {\n",
              "        vertical-align: top;\n",
              "    }\n",
              "\n",
              "    .dataframe thead th {\n",
              "        text-align: right;\n",
              "    }\n",
              "</style>\n",
              "<table border=\"1\" class=\"dataframe\">\n",
              "  <thead>\n",
              "    <tr style=\"text-align: right;\">\n",
              "      <th></th>\n",
              "      <th>Nome</th>\n",
              "      <th>Idade</th>\n",
              "      <th>Posicao</th>\n",
              "      <th>Media</th>\n",
              "      <th>Potencial</th>\n",
              "      <th>Time</th>\n",
              "      <th>Salario</th>\n",
              "      <th>Total_Pontos</th>\n",
              "    </tr>\n",
              "  </thead>\n",
              "  <tbody>\n",
              "    <tr>\n",
              "      <th>0</th>\n",
              "      <td>G. Obertan</td>\n",
              "      <td>31</td>\n",
              "      <td>CAM</td>\n",
              "      <td>69</td>\n",
              "      <td>69</td>\n",
              "      <td>BB Erzurumspor</td>\n",
              "      <td>€7K</td>\n",
              "      <td>1753</td>\n",
              "    </tr>\n",
              "    <tr>\n",
              "      <th>1</th>\n",
              "      <td>P. Foden</td>\n",
              "      <td>20</td>\n",
              "      <td>CAM</td>\n",
              "      <td>81</td>\n",
              "      <td>91</td>\n",
              "      <td>Manchester City</td>\n",
              "      <td>€95K</td>\n",
              "      <td>1997</td>\n",
              "    </tr>\n",
              "    <tr>\n",
              "      <th>2</th>\n",
              "      <td>S. García</td>\n",
              "      <td>29</td>\n",
              "      <td>ST</td>\n",
              "      <td>74</td>\n",
              "      <td>74</td>\n",
              "      <td>Godoy Cruz</td>\n",
              "      <td>€12K</td>\n",
              "      <td>1847</td>\n",
              "    </tr>\n",
              "    <tr>\n",
              "      <th>3</th>\n",
              "      <td>Trincão</td>\n",
              "      <td>20</td>\n",
              "      <td>RW</td>\n",
              "      <td>77</td>\n",
              "      <td>87</td>\n",
              "      <td>FC Barcelona</td>\n",
              "      <td>€95K</td>\n",
              "      <td>1906</td>\n",
              "    </tr>\n",
              "    <tr>\n",
              "      <th>4</th>\n",
              "      <td>A. Gignac</td>\n",
              "      <td>34</td>\n",
              "      <td>ST</td>\n",
              "      <td>81</td>\n",
              "      <td>81</td>\n",
              "      <td>Tigres U.A.N.L.</td>\n",
              "      <td>€66K</td>\n",
              "      <td>2018</td>\n",
              "    </tr>\n",
              "  </tbody>\n",
              "</table>\n",
              "</div>"
            ],
            "text/plain": [
              "          Nome Idade Posicao  ...             Time Salario Total_Pontos\n",
              "0   G. Obertan    31     CAM  ...   BB Erzurumspor     €7K         1753\n",
              "1     P. Foden    20     CAM  ...  Manchester City    €95K         1997\n",
              "2    S. García    29      ST  ...       Godoy Cruz    €12K         1847\n",
              "3      Trincão    20      RW  ...     FC Barcelona    €95K         1906\n",
              "4    A. Gignac    34      ST  ...  Tigres U.A.N.L.    €66K         2018\n",
              "\n",
              "[5 rows x 8 columns]"
            ]
          },
          "metadata": {
            "tags": []
          },
          "execution_count": 8
        }
      ]
    },
    {
      "cell_type": "code",
      "metadata": {
        "id": "eVudnoXPu7lT"
      },
      "source": [
        "#dados.to_excel('sds_fifa.xlsx', index=True)"
      ],
      "execution_count": null,
      "outputs": []
    }
  ]
}