{
  "nbformat": 4,
  "nbformat_minor": 0,
  "metadata": {
    "colab": {
      "name": "02 - Análise dos Dados.ipynb",
      "provenance": [],
      "collapsed_sections": [],
      "toc_visible": true,
      "mount_file_id": "1EpE-kWFTl5g9uPParfWmVxQD8EkXFMPG",
      "authorship_tag": "ABX9TyPWvQi2Ono8AVj18KZ32yDw",
      "include_colab_link": true
    },
    "kernelspec": {
      "name": "python3",
      "display_name": "Python 3"
    }
  },
  "cells": [
    {
      "cell_type": "markdown",
      "metadata": {
        "id": "view-in-github",
        "colab_type": "text"
      },
      "source": [
        "<a href=\"https://colab.research.google.com/github/GuiSamuka/EloScience-Course/blob/main/02_An%C3%A1lise_dos_Dados.ipynb\" target=\"_parent\"><img src=\"https://colab.research.google.com/assets/colab-badge.svg\" alt=\"Open In Colab\"/></a>"
      ]
    },
    {
      "cell_type": "markdown",
      "metadata": {
        "id": "PgyJwEiJIZ5H"
      },
      "source": [
        "# **Task 1 - Conhecer os dados**"
      ]
    },
    {
      "cell_type": "code",
      "metadata": {
        "id": "QH2BOr-fIt35"
      },
      "source": [
        "import pandas as pd"
      ],
      "execution_count": null,
      "outputs": []
    },
    {
      "cell_type": "code",
      "metadata": {
        "id": "H5MwoH5e-W0T"
      },
      "source": [
        "dados = pd.read_csv('/content/drive/MyDrive/Colab Notebooks/Elo Science - Semana Data Science/sds_fifa.csv')"
      ],
      "execution_count": null,
      "outputs": []
    },
    {
      "cell_type": "code",
      "metadata": {
        "colab": {
          "base_uri": "https://localhost:8080/",
          "height": 204
        },
        "id": "IKwlu06_-3Mq",
        "outputId": "b763c781-08d0-48bd-fa2c-d024d0fe0db3"
      },
      "source": [
        "# Obter o cabeçalho\r\n",
        "dados.head()"
      ],
      "execution_count": null,
      "outputs": [
        {
          "output_type": "execute_result",
          "data": {
            "text/html": [
              "<div>\n",
              "<style scoped>\n",
              "    .dataframe tbody tr th:only-of-type {\n",
              "        vertical-align: middle;\n",
              "    }\n",
              "\n",
              "    .dataframe tbody tr th {\n",
              "        vertical-align: top;\n",
              "    }\n",
              "\n",
              "    .dataframe thead th {\n",
              "        text-align: right;\n",
              "    }\n",
              "</style>\n",
              "<table border=\"1\" class=\"dataframe\">\n",
              "  <thead>\n",
              "    <tr style=\"text-align: right;\">\n",
              "      <th></th>\n",
              "      <th>Nome</th>\n",
              "      <th>Idade</th>\n",
              "      <th>Posicao</th>\n",
              "      <th>Media</th>\n",
              "      <th>Potencial</th>\n",
              "      <th>Time</th>\n",
              "      <th>Salario</th>\n",
              "      <th>Total_Pontos</th>\n",
              "    </tr>\n",
              "  </thead>\n",
              "  <tbody>\n",
              "    <tr>\n",
              "      <th>0</th>\n",
              "      <td>G. Obertan</td>\n",
              "      <td>31</td>\n",
              "      <td>CAM</td>\n",
              "      <td>69</td>\n",
              "      <td>69</td>\n",
              "      <td>BB Erzurumspor</td>\n",
              "      <td>€7K</td>\n",
              "      <td>1753</td>\n",
              "    </tr>\n",
              "    <tr>\n",
              "      <th>1</th>\n",
              "      <td>P. Foden</td>\n",
              "      <td>20</td>\n",
              "      <td>CAM</td>\n",
              "      <td>81</td>\n",
              "      <td>91</td>\n",
              "      <td>Manchester City</td>\n",
              "      <td>€95K</td>\n",
              "      <td>1997</td>\n",
              "    </tr>\n",
              "    <tr>\n",
              "      <th>2</th>\n",
              "      <td>S. García</td>\n",
              "      <td>29</td>\n",
              "      <td>ST</td>\n",
              "      <td>74</td>\n",
              "      <td>74</td>\n",
              "      <td>Godoy Cruz</td>\n",
              "      <td>€12K</td>\n",
              "      <td>1847</td>\n",
              "    </tr>\n",
              "    <tr>\n",
              "      <th>3</th>\n",
              "      <td>Trincão</td>\n",
              "      <td>20</td>\n",
              "      <td>RW</td>\n",
              "      <td>77</td>\n",
              "      <td>87</td>\n",
              "      <td>FC Barcelona</td>\n",
              "      <td>€95K</td>\n",
              "      <td>1906</td>\n",
              "    </tr>\n",
              "    <tr>\n",
              "      <th>4</th>\n",
              "      <td>A. Gignac</td>\n",
              "      <td>34</td>\n",
              "      <td>ST</td>\n",
              "      <td>81</td>\n",
              "      <td>81</td>\n",
              "      <td>Tigres U.A.N.L.</td>\n",
              "      <td>€66K</td>\n",
              "      <td>2018</td>\n",
              "    </tr>\n",
              "  </tbody>\n",
              "</table>\n",
              "</div>"
            ],
            "text/plain": [
              "          Nome  Idade Posicao  ...             Time  Salario Total_Pontos\n",
              "0   G. Obertan     31     CAM  ...   BB Erzurumspor      €7K         1753\n",
              "1     P. Foden     20     CAM  ...  Manchester City     €95K         1997\n",
              "2    S. García     29      ST  ...       Godoy Cruz     €12K         1847\n",
              "3      Trincão     20      RW  ...     FC Barcelona     €95K         1906\n",
              "4    A. Gignac     34      ST  ...  Tigres U.A.N.L.     €66K         2018\n",
              "\n",
              "[5 rows x 8 columns]"
            ]
          },
          "metadata": {
            "tags": []
          },
          "execution_count": 19
        }
      ]
    },
    {
      "cell_type": "code",
      "metadata": {
        "colab": {
          "base_uri": "https://localhost:8080/",
          "height": 204
        },
        "id": "eL6BSa-d-uFd",
        "outputId": "7d01c59c-f28d-4f1a-b790-517e9f6b20c3"
      },
      "source": [
        "# Obter os últimos dados\r\n",
        "dados.tail()"
      ],
      "execution_count": null,
      "outputs": [
        {
          "output_type": "execute_result",
          "data": {
            "text/html": [
              "<div>\n",
              "<style scoped>\n",
              "    .dataframe tbody tr th:only-of-type {\n",
              "        vertical-align: middle;\n",
              "    }\n",
              "\n",
              "    .dataframe tbody tr th {\n",
              "        vertical-align: top;\n",
              "    }\n",
              "\n",
              "    .dataframe thead th {\n",
              "        text-align: right;\n",
              "    }\n",
              "</style>\n",
              "<table border=\"1\" class=\"dataframe\">\n",
              "  <thead>\n",
              "    <tr style=\"text-align: right;\">\n",
              "      <th></th>\n",
              "      <th>Nome</th>\n",
              "      <th>Idade</th>\n",
              "      <th>Posicao</th>\n",
              "      <th>Media</th>\n",
              "      <th>Potencial</th>\n",
              "      <th>Time</th>\n",
              "      <th>Salario</th>\n",
              "      <th>Total_Pontos</th>\n",
              "    </tr>\n",
              "  </thead>\n",
              "  <tbody>\n",
              "    <tr>\n",
              "      <th>5995</th>\n",
              "      <td>D. Szoboszlai</td>\n",
              "      <td>19</td>\n",
              "      <td>CAM</td>\n",
              "      <td>77</td>\n",
              "      <td>87</td>\n",
              "      <td>RB Leipzig</td>\n",
              "      <td>€27K</td>\n",
              "      <td>1967</td>\n",
              "    </tr>\n",
              "    <tr>\n",
              "      <th>5996</th>\n",
              "      <td>J. Bellingham</td>\n",
              "      <td>17</td>\n",
              "      <td>CM</td>\n",
              "      <td>74</td>\n",
              "      <td>88</td>\n",
              "      <td>Borussia Dortmund</td>\n",
              "      <td>€6K</td>\n",
              "      <td>1962</td>\n",
              "    </tr>\n",
              "    <tr>\n",
              "      <th>5997</th>\n",
              "      <td>K. Havertz</td>\n",
              "      <td>21</td>\n",
              "      <td>CAM</td>\n",
              "      <td>84</td>\n",
              "      <td>92</td>\n",
              "      <td>Chelsea</td>\n",
              "      <td>€95K</td>\n",
              "      <td>2048</td>\n",
              "    </tr>\n",
              "    <tr>\n",
              "      <th>5998</th>\n",
              "      <td>T. Almada</td>\n",
              "      <td>19</td>\n",
              "      <td>CAM</td>\n",
              "      <td>74</td>\n",
              "      <td>88</td>\n",
              "      <td>Vélez Sarsfield</td>\n",
              "      <td>€9K</td>\n",
              "      <td>2001</td>\n",
              "    </tr>\n",
              "    <tr>\n",
              "      <th>5999</th>\n",
              "      <td>Emerson</td>\n",
              "      <td>21</td>\n",
              "      <td>RB</td>\n",
              "      <td>78</td>\n",
              "      <td>85</td>\n",
              "      <td>Real Betis</td>\n",
              "      <td>€17K</td>\n",
              "      <td>2011</td>\n",
              "    </tr>\n",
              "  </tbody>\n",
              "</table>\n",
              "</div>"
            ],
            "text/plain": [
              "                Nome  Idade Posicao  ...               Time  Salario Total_Pontos\n",
              "5995   D. Szoboszlai     19     CAM  ...         RB Leipzig     €27K         1967\n",
              "5996   J. Bellingham     17      CM  ...  Borussia Dortmund      €6K         1962\n",
              "5997      K. Havertz     21     CAM  ...            Chelsea     €95K         2048\n",
              "5998       T. Almada     19     CAM  ...    Vélez Sarsfield      €9K         2001\n",
              "5999         Emerson     21      RB  ...         Real Betis     €17K         2011\n",
              "\n",
              "[5 rows x 8 columns]"
            ]
          },
          "metadata": {
            "tags": []
          },
          "execution_count": 20
        }
      ]
    },
    {
      "cell_type": "code",
      "metadata": {
        "colab": {
          "base_uri": "https://localhost:8080/",
          "height": 204
        },
        "id": "Qt5MLTN--vm0",
        "outputId": "8dc9312a-9859-43f6-8169-ee29a483c276"
      },
      "source": [
        "# Obter amostra aleatória\r\n",
        "dados.sample(5)"
      ],
      "execution_count": null,
      "outputs": [
        {
          "output_type": "execute_result",
          "data": {
            "text/html": [
              "<div>\n",
              "<style scoped>\n",
              "    .dataframe tbody tr th:only-of-type {\n",
              "        vertical-align: middle;\n",
              "    }\n",
              "\n",
              "    .dataframe tbody tr th {\n",
              "        vertical-align: top;\n",
              "    }\n",
              "\n",
              "    .dataframe thead th {\n",
              "        text-align: right;\n",
              "    }\n",
              "</style>\n",
              "<table border=\"1\" class=\"dataframe\">\n",
              "  <thead>\n",
              "    <tr style=\"text-align: right;\">\n",
              "      <th></th>\n",
              "      <th>Nome</th>\n",
              "      <th>Idade</th>\n",
              "      <th>Posicao</th>\n",
              "      <th>Media</th>\n",
              "      <th>Potencial</th>\n",
              "      <th>Time</th>\n",
              "      <th>Salario</th>\n",
              "      <th>Total_Pontos</th>\n",
              "    </tr>\n",
              "  </thead>\n",
              "  <tbody>\n",
              "    <tr>\n",
              "      <th>5556</th>\n",
              "      <td>Cristiano Ronaldo</td>\n",
              "      <td>35</td>\n",
              "      <td>ST</td>\n",
              "      <td>92</td>\n",
              "      <td>92</td>\n",
              "      <td>Juventus</td>\n",
              "      <td>€220K</td>\n",
              "      <td>2221</td>\n",
              "    </tr>\n",
              "    <tr>\n",
              "      <th>2634</th>\n",
              "      <td>D. Szoboszlai</td>\n",
              "      <td>19</td>\n",
              "      <td>CAM</td>\n",
              "      <td>77</td>\n",
              "      <td>87</td>\n",
              "      <td>RB Leipzig</td>\n",
              "      <td>€27K</td>\n",
              "      <td>1967</td>\n",
              "    </tr>\n",
              "    <tr>\n",
              "      <th>2485</th>\n",
              "      <td>N. Madueke</td>\n",
              "      <td>18</td>\n",
              "      <td>RM</td>\n",
              "      <td>72</td>\n",
              "      <td>87</td>\n",
              "      <td>PSV</td>\n",
              "      <td>€5K</td>\n",
              "      <td>1792</td>\n",
              "    </tr>\n",
              "    <tr>\n",
              "      <th>846</th>\n",
              "      <td>J. Gvardiol</td>\n",
              "      <td>18</td>\n",
              "      <td>CB</td>\n",
              "      <td>72</td>\n",
              "      <td>87</td>\n",
              "      <td>Dinamo Zagreb</td>\n",
              "      <td>€500</td>\n",
              "      <td>1836</td>\n",
              "    </tr>\n",
              "    <tr>\n",
              "      <th>1546</th>\n",
              "      <td>D. Upamecano</td>\n",
              "      <td>21</td>\n",
              "      <td>CB</td>\n",
              "      <td>81</td>\n",
              "      <td>90</td>\n",
              "      <td>RB Leipzig</td>\n",
              "      <td>€41K</td>\n",
              "      <td>1841</td>\n",
              "    </tr>\n",
              "  </tbody>\n",
              "</table>\n",
              "</div>"
            ],
            "text/plain": [
              "                    Nome  Idade Posicao  ...           Time  Salario Total_Pontos\n",
              "5556   Cristiano Ronaldo     35      ST  ...       Juventus    €220K         2221\n",
              "2634       D. Szoboszlai     19     CAM  ...     RB Leipzig     €27K         1967\n",
              "2485          N. Madueke     18      RM  ...            PSV      €5K         1792\n",
              "846          J. Gvardiol     18      CB  ...  Dinamo Zagreb     €500         1836\n",
              "1546        D. Upamecano     21      CB  ...     RB Leipzig     €41K         1841\n",
              "\n",
              "[5 rows x 8 columns]"
            ]
          },
          "metadata": {
            "tags": []
          },
          "execution_count": 21
        }
      ]
    },
    {
      "cell_type": "code",
      "metadata": {
        "colab": {
          "base_uri": "https://localhost:8080/"
        },
        "id": "QNj2azV4-7bk",
        "outputId": "9dc7b5f9-d0d5-4a4a-e643-80c37559a4ca"
      },
      "source": [
        "# Obter informações sobre os dados\r\n",
        "dados.info()"
      ],
      "execution_count": null,
      "outputs": [
        {
          "output_type": "stream",
          "text": [
            "<class 'pandas.core.frame.DataFrame'>\n",
            "RangeIndex: 6000 entries, 0 to 5999\n",
            "Data columns (total 8 columns):\n",
            " #   Column        Non-Null Count  Dtype \n",
            "---  ------        --------------  ----- \n",
            " 0   Nome          6000 non-null   object\n",
            " 1   Idade         6000 non-null   int64 \n",
            " 2   Posicao       6000 non-null   object\n",
            " 3   Media         6000 non-null   int64 \n",
            " 4   Potencial     6000 non-null   int64 \n",
            " 5   Time          6000 non-null   object\n",
            " 6   Salario       6000 non-null   object\n",
            " 7   Total_Pontos  6000 non-null   int64 \n",
            "dtypes: int64(4), object(4)\n",
            "memory usage: 375.1+ KB\n"
          ],
          "name": "stdout"
        }
      ]
    },
    {
      "cell_type": "code",
      "metadata": {
        "colab": {
          "base_uri": "https://localhost:8080/",
          "height": 173
        },
        "id": "_q3bMKAe_BWb",
        "outputId": "db384a57-ce9a-4a01-b8eb-92f15b085bfe"
      },
      "source": [
        "# Obter o resumo estatístico\r\n",
        "dados.describe().T"
      ],
      "execution_count": null,
      "outputs": [
        {
          "output_type": "execute_result",
          "data": {
            "text/html": [
              "<div>\n",
              "<style scoped>\n",
              "    .dataframe tbody tr th:only-of-type {\n",
              "        vertical-align: middle;\n",
              "    }\n",
              "\n",
              "    .dataframe tbody tr th {\n",
              "        vertical-align: top;\n",
              "    }\n",
              "\n",
              "    .dataframe thead th {\n",
              "        text-align: right;\n",
              "    }\n",
              "</style>\n",
              "<table border=\"1\" class=\"dataframe\">\n",
              "  <thead>\n",
              "    <tr style=\"text-align: right;\">\n",
              "      <th></th>\n",
              "      <th>count</th>\n",
              "      <th>mean</th>\n",
              "      <th>std</th>\n",
              "      <th>min</th>\n",
              "      <th>25%</th>\n",
              "      <th>50%</th>\n",
              "      <th>75%</th>\n",
              "      <th>max</th>\n",
              "    </tr>\n",
              "  </thead>\n",
              "  <tbody>\n",
              "    <tr>\n",
              "      <th>Idade</th>\n",
              "      <td>6000.0</td>\n",
              "      <td>21.532333</td>\n",
              "      <td>4.872738</td>\n",
              "      <td>16.0</td>\n",
              "      <td>18.0</td>\n",
              "      <td>21.0</td>\n",
              "      <td>23.0</td>\n",
              "      <td>38.0</td>\n",
              "    </tr>\n",
              "    <tr>\n",
              "      <th>Media</th>\n",
              "      <td>6000.0</td>\n",
              "      <td>78.268833</td>\n",
              "      <td>6.598193</td>\n",
              "      <td>62.0</td>\n",
              "      <td>74.0</td>\n",
              "      <td>77.0</td>\n",
              "      <td>83.0</td>\n",
              "      <td>93.0</td>\n",
              "    </tr>\n",
              "    <tr>\n",
              "      <th>Potencial</th>\n",
              "      <td>6000.0</td>\n",
              "      <td>86.851667</td>\n",
              "      <td>4.625570</td>\n",
              "      <td>69.0</td>\n",
              "      <td>86.0</td>\n",
              "      <td>87.0</td>\n",
              "      <td>89.0</td>\n",
              "      <td>95.0</td>\n",
              "    </tr>\n",
              "    <tr>\n",
              "      <th>Total_Pontos</th>\n",
              "      <td>6000.0</td>\n",
              "      <td>1927.909833</td>\n",
              "      <td>196.530184</td>\n",
              "      <td>911.0</td>\n",
              "      <td>1817.0</td>\n",
              "      <td>1962.0</td>\n",
              "      <td>2048.0</td>\n",
              "      <td>2336.0</td>\n",
              "    </tr>\n",
              "  </tbody>\n",
              "</table>\n",
              "</div>"
            ],
            "text/plain": [
              "               count         mean         std  ...     50%     75%     max\n",
              "Idade         6000.0    21.532333    4.872738  ...    21.0    23.0    38.0\n",
              "Media         6000.0    78.268833    6.598193  ...    77.0    83.0    93.0\n",
              "Potencial     6000.0    86.851667    4.625570  ...    87.0    89.0    95.0\n",
              "Total_Pontos  6000.0  1927.909833  196.530184  ...  1962.0  2048.0  2336.0\n",
              "\n",
              "[4 rows x 8 columns]"
            ]
          },
          "metadata": {
            "tags": []
          },
          "execution_count": 23
        }
      ]
    },
    {
      "cell_type": "markdown",
      "metadata": {
        "id": "-e7MyeYoIdFR"
      },
      "source": [
        "# **Task 2 - Transformar/Processar os nossos dados**"
      ]
    },
    {
      "cell_type": "markdown",
      "metadata": {
        "id": "ZPVB9NCh__UY"
      },
      "source": [
        "### Eliminar o sinal do euro na coluna Salario"
      ]
    },
    {
      "cell_type": "code",
      "metadata": {
        "id": "ha5zo1Ad_y3n"
      },
      "source": [
        "dados.Salario = dados.Salario.str.replace('€', '')"
      ],
      "execution_count": null,
      "outputs": []
    },
    {
      "cell_type": "code",
      "metadata": {
        "colab": {
          "base_uri": "https://localhost:8080/",
          "height": 204
        },
        "id": "-CVCi5QlAU_G",
        "outputId": "a41e2eb8-dcfc-40e0-f6fb-75fe4a60fad2"
      },
      "source": [
        "dados.sample(5)"
      ],
      "execution_count": null,
      "outputs": [
        {
          "output_type": "execute_result",
          "data": {
            "text/html": [
              "<div>\n",
              "<style scoped>\n",
              "    .dataframe tbody tr th:only-of-type {\n",
              "        vertical-align: middle;\n",
              "    }\n",
              "\n",
              "    .dataframe tbody tr th {\n",
              "        vertical-align: top;\n",
              "    }\n",
              "\n",
              "    .dataframe thead th {\n",
              "        text-align: right;\n",
              "    }\n",
              "</style>\n",
              "<table border=\"1\" class=\"dataframe\">\n",
              "  <thead>\n",
              "    <tr style=\"text-align: right;\">\n",
              "      <th></th>\n",
              "      <th>Nome</th>\n",
              "      <th>Idade</th>\n",
              "      <th>Posicao</th>\n",
              "      <th>Media</th>\n",
              "      <th>Potencial</th>\n",
              "      <th>Time</th>\n",
              "      <th>Salario</th>\n",
              "      <th>Total_Pontos</th>\n",
              "    </tr>\n",
              "  </thead>\n",
              "  <tbody>\n",
              "    <tr>\n",
              "      <th>5300</th>\n",
              "      <td>J. Musiala</td>\n",
              "      <td>17</td>\n",
              "      <td>CAM</td>\n",
              "      <td>70</td>\n",
              "      <td>86</td>\n",
              "      <td>FC Bayern München</td>\n",
              "      <td>4K</td>\n",
              "      <td>1585</td>\n",
              "    </tr>\n",
              "    <tr>\n",
              "      <th>2202</th>\n",
              "      <td>J. Kimmich</td>\n",
              "      <td>25</td>\n",
              "      <td>CDM</td>\n",
              "      <td>89</td>\n",
              "      <td>90</td>\n",
              "      <td>FC Bayern München</td>\n",
              "      <td>150K</td>\n",
              "      <td>2284</td>\n",
              "    </tr>\n",
              "    <tr>\n",
              "      <th>4957</th>\n",
              "      <td>M. Greenwood</td>\n",
              "      <td>18</td>\n",
              "      <td>RM</td>\n",
              "      <td>77</td>\n",
              "      <td>89</td>\n",
              "      <td>Manchester United</td>\n",
              "      <td>33K</td>\n",
              "      <td>1922</td>\n",
              "    </tr>\n",
              "    <tr>\n",
              "      <th>3861</th>\n",
              "      <td>K. Adeyemi</td>\n",
              "      <td>18</td>\n",
              "      <td>ST</td>\n",
              "      <td>69</td>\n",
              "      <td>86</td>\n",
              "      <td>FC Red Bull Salzburg</td>\n",
              "      <td>6K</td>\n",
              "      <td>1750</td>\n",
              "    </tr>\n",
              "    <tr>\n",
              "      <th>4197</th>\n",
              "      <td>K. Havertz</td>\n",
              "      <td>21</td>\n",
              "      <td>CAM</td>\n",
              "      <td>84</td>\n",
              "      <td>92</td>\n",
              "      <td>Chelsea</td>\n",
              "      <td>95K</td>\n",
              "      <td>2048</td>\n",
              "    </tr>\n",
              "  </tbody>\n",
              "</table>\n",
              "</div>"
            ],
            "text/plain": [
              "               Nome  Idade Posicao  ...                  Time  Salario Total_Pontos\n",
              "5300     J. Musiala     17     CAM  ...     FC Bayern München       4K         1585\n",
              "2202     J. Kimmich     25     CDM  ...     FC Bayern München     150K         2284\n",
              "4957   M. Greenwood     18      RM  ...     Manchester United      33K         1922\n",
              "3861     K. Adeyemi     18      ST  ...  FC Red Bull Salzburg       6K         1750\n",
              "4197     K. Havertz     21     CAM  ...               Chelsea      95K         2048\n",
              "\n",
              "[5 rows x 8 columns]"
            ]
          },
          "metadata": {
            "tags": []
          },
          "execution_count": 25
        }
      ]
    },
    {
      "cell_type": "markdown",
      "metadata": {
        "id": "AaKGQG8yAmiq"
      },
      "source": [
        "### Eliminar os dados vazios"
      ]
    },
    {
      "cell_type": "code",
      "metadata": {
        "id": "FW4F_Zp5ArBY"
      },
      "source": [
        "dados = dados.dropna()"
      ],
      "execution_count": null,
      "outputs": []
    },
    {
      "cell_type": "code",
      "metadata": {
        "colab": {
          "base_uri": "https://localhost:8080/",
          "height": 204
        },
        "id": "-dXNuX_pA3t5",
        "outputId": "4f420769-0c42-43c3-a116-ba7a3225f12b"
      },
      "source": [
        "dados.head()"
      ],
      "execution_count": null,
      "outputs": [
        {
          "output_type": "execute_result",
          "data": {
            "text/html": [
              "<div>\n",
              "<style scoped>\n",
              "    .dataframe tbody tr th:only-of-type {\n",
              "        vertical-align: middle;\n",
              "    }\n",
              "\n",
              "    .dataframe tbody tr th {\n",
              "        vertical-align: top;\n",
              "    }\n",
              "\n",
              "    .dataframe thead th {\n",
              "        text-align: right;\n",
              "    }\n",
              "</style>\n",
              "<table border=\"1\" class=\"dataframe\">\n",
              "  <thead>\n",
              "    <tr style=\"text-align: right;\">\n",
              "      <th></th>\n",
              "      <th>Nome</th>\n",
              "      <th>Idade</th>\n",
              "      <th>Posicao</th>\n",
              "      <th>Media</th>\n",
              "      <th>Potencial</th>\n",
              "      <th>Time</th>\n",
              "      <th>Salario</th>\n",
              "      <th>Total_Pontos</th>\n",
              "    </tr>\n",
              "  </thead>\n",
              "  <tbody>\n",
              "    <tr>\n",
              "      <th>0</th>\n",
              "      <td>G. Obertan</td>\n",
              "      <td>31</td>\n",
              "      <td>CAM</td>\n",
              "      <td>69</td>\n",
              "      <td>69</td>\n",
              "      <td>BB Erzurumspor</td>\n",
              "      <td>7K</td>\n",
              "      <td>1753</td>\n",
              "    </tr>\n",
              "    <tr>\n",
              "      <th>1</th>\n",
              "      <td>P. Foden</td>\n",
              "      <td>20</td>\n",
              "      <td>CAM</td>\n",
              "      <td>81</td>\n",
              "      <td>91</td>\n",
              "      <td>Manchester City</td>\n",
              "      <td>95K</td>\n",
              "      <td>1997</td>\n",
              "    </tr>\n",
              "    <tr>\n",
              "      <th>2</th>\n",
              "      <td>S. García</td>\n",
              "      <td>29</td>\n",
              "      <td>ST</td>\n",
              "      <td>74</td>\n",
              "      <td>74</td>\n",
              "      <td>Godoy Cruz</td>\n",
              "      <td>12K</td>\n",
              "      <td>1847</td>\n",
              "    </tr>\n",
              "    <tr>\n",
              "      <th>3</th>\n",
              "      <td>Trincão</td>\n",
              "      <td>20</td>\n",
              "      <td>RW</td>\n",
              "      <td>77</td>\n",
              "      <td>87</td>\n",
              "      <td>FC Barcelona</td>\n",
              "      <td>95K</td>\n",
              "      <td>1906</td>\n",
              "    </tr>\n",
              "    <tr>\n",
              "      <th>4</th>\n",
              "      <td>A. Gignac</td>\n",
              "      <td>34</td>\n",
              "      <td>ST</td>\n",
              "      <td>81</td>\n",
              "      <td>81</td>\n",
              "      <td>Tigres U.A.N.L.</td>\n",
              "      <td>66K</td>\n",
              "      <td>2018</td>\n",
              "    </tr>\n",
              "  </tbody>\n",
              "</table>\n",
              "</div>"
            ],
            "text/plain": [
              "          Nome  Idade Posicao  ...             Time  Salario Total_Pontos\n",
              "0   G. Obertan     31     CAM  ...   BB Erzurumspor       7K         1753\n",
              "1     P. Foden     20     CAM  ...  Manchester City      95K         1997\n",
              "2    S. García     29      ST  ...       Godoy Cruz      12K         1847\n",
              "3      Trincão     20      RW  ...     FC Barcelona      95K         1906\n",
              "4    A. Gignac     34      ST  ...  Tigres U.A.N.L.      66K         2018\n",
              "\n",
              "[5 rows x 8 columns]"
            ]
          },
          "metadata": {
            "tags": []
          },
          "execution_count": 28
        }
      ]
    },
    {
      "cell_type": "markdown",
      "metadata": {
        "id": "tKKjCChIB3Zd"
      },
      "source": [
        "Se quisermos saber se há algum valor NaN no DataFrame, podemos utilizar o método isnull().values.any() que retorna True se houver algum valor NaN no DataFrame e retorna False se não houver sequer uma única entrada NaN no DataFrame.\r\n",
        "\r\n",
        "https://www.delftstack.com/pt/howto/python-pandas/how-to-check-if-nan-exisits-in-pandas-dataframe/"
      ]
    },
    {
      "cell_type": "code",
      "metadata": {
        "colab": {
          "base_uri": "https://localhost:8080/"
        },
        "id": "V-Wd1BQ8Br-w",
        "outputId": "a494a7ac-5d98-46a8-acf3-98215b43031c"
      },
      "source": [
        "dados.isnull().values.any()"
      ],
      "execution_count": null,
      "outputs": [
        {
          "output_type": "execute_result",
          "data": {
            "text/plain": [
              "False"
            ]
          },
          "metadata": {
            "tags": []
          },
          "execution_count": 42
        }
      ]
    },
    {
      "cell_type": "markdown",
      "metadata": {
        "id": "zCNdyY80BOnN"
      },
      "source": [
        "### Conhecer valores únicos"
      ]
    },
    {
      "cell_type": "code",
      "metadata": {
        "colab": {
          "base_uri": "https://localhost:8080/"
        },
        "id": "bj3Td77RBUaJ",
        "outputId": "6c101d1f-3954-471d-d4ed-6cfeecb6574d"
      },
      "source": [
        "dados.Salario.unique()"
      ],
      "execution_count": null,
      "outputs": [
        {
          "output_type": "execute_result",
          "data": {
            "text/plain": [
              "array(['7K', '95K', '12K', '66K', '160K', '500', '18K', '14K', '120K',\n",
              "       '110K', '6K', '3K', '70K', '50K', '90K', '23K', '67K', '4K', '54K',\n",
              "       '560K', '40K', '5K', '82K', '24K', '29K', '210K', '42K', '75K',\n",
              "       '220K', '33K', '45K', '25K', '240K', '150K', '41K', '76K', '59K',\n",
              "       '135K', '2K', '27K', '9K', '17K', '61K', '270K', '16K', '28K',\n",
              "       '77K', '11K', '100K', '155K', '44K', '10K', '195K', '46K', '175K',\n",
              "       '13K', '58K', '1K', '55K', '47K', '39K', '53K', '20K', '370K',\n",
              "       '125K', '250K', '550', '8K', '30K', '36K'], dtype=object)"
            ]
          },
          "metadata": {
            "tags": []
          },
          "execution_count": 34
        }
      ]
    },
    {
      "cell_type": "code",
      "metadata": {
        "colab": {
          "base_uri": "https://localhost:8080/"
        },
        "id": "oxcZOet0BebU",
        "outputId": "5c3eb6f9-5fd4-4b49-aaf6-18f06f370fc6"
      },
      "source": [
        "dados.Salario.nunique()"
      ],
      "execution_count": null,
      "outputs": [
        {
          "output_type": "execute_result",
          "data": {
            "text/plain": [
              "70"
            ]
          },
          "metadata": {
            "tags": []
          },
          "execution_count": 36
        }
      ]
    },
    {
      "cell_type": "markdown",
      "metadata": {
        "id": "YBkBHGm1CCRN"
      },
      "source": [
        "### Substituir k por 3 zeros"
      ]
    },
    {
      "cell_type": "code",
      "metadata": {
        "id": "VOXh24DMCH51"
      },
      "source": [
        "dados.Salario = dados.Salario.str.replace('K', '000')"
      ],
      "execution_count": null,
      "outputs": []
    },
    {
      "cell_type": "code",
      "metadata": {
        "colab": {
          "base_uri": "https://localhost:8080/",
          "height": 204
        },
        "id": "0c9P1tvMCRCd",
        "outputId": "86599244-bbc3-41cf-9709-1257fd7a5c50"
      },
      "source": [
        "dados.sample(5)"
      ],
      "execution_count": null,
      "outputs": [
        {
          "output_type": "execute_result",
          "data": {
            "text/html": [
              "<div>\n",
              "<style scoped>\n",
              "    .dataframe tbody tr th:only-of-type {\n",
              "        vertical-align: middle;\n",
              "    }\n",
              "\n",
              "    .dataframe tbody tr th {\n",
              "        vertical-align: top;\n",
              "    }\n",
              "\n",
              "    .dataframe thead th {\n",
              "        text-align: right;\n",
              "    }\n",
              "</style>\n",
              "<table border=\"1\" class=\"dataframe\">\n",
              "  <thead>\n",
              "    <tr style=\"text-align: right;\">\n",
              "      <th></th>\n",
              "      <th>Nome</th>\n",
              "      <th>Idade</th>\n",
              "      <th>Posicao</th>\n",
              "      <th>Media</th>\n",
              "      <th>Potencial</th>\n",
              "      <th>Time</th>\n",
              "      <th>Salario</th>\n",
              "      <th>Total_Pontos</th>\n",
              "    </tr>\n",
              "  </thead>\n",
              "  <tbody>\n",
              "    <tr>\n",
              "      <th>1033</th>\n",
              "      <td>M. Mount</td>\n",
              "      <td>21</td>\n",
              "      <td>CAM</td>\n",
              "      <td>80</td>\n",
              "      <td>87</td>\n",
              "      <td>Chelsea</td>\n",
              "      <td>70000</td>\n",
              "      <td>1997</td>\n",
              "    </tr>\n",
              "    <tr>\n",
              "      <th>2856</th>\n",
              "      <td>Cristiano Ronaldo</td>\n",
              "      <td>35</td>\n",
              "      <td>ST</td>\n",
              "      <td>92</td>\n",
              "      <td>92</td>\n",
              "      <td>Juventus</td>\n",
              "      <td>220000</td>\n",
              "      <td>2221</td>\n",
              "    </tr>\n",
              "    <tr>\n",
              "      <th>4262</th>\n",
              "      <td>S. García</td>\n",
              "      <td>29</td>\n",
              "      <td>ST</td>\n",
              "      <td>74</td>\n",
              "      <td>74</td>\n",
              "      <td>Godoy Cruz</td>\n",
              "      <td>12000</td>\n",
              "      <td>1847</td>\n",
              "    </tr>\n",
              "    <tr>\n",
              "      <th>752</th>\n",
              "      <td>F. de Jong</td>\n",
              "      <td>23</td>\n",
              "      <td>CM</td>\n",
              "      <td>86</td>\n",
              "      <td>91</td>\n",
              "      <td>FC Barcelona</td>\n",
              "      <td>210000</td>\n",
              "      <td>2196</td>\n",
              "    </tr>\n",
              "    <tr>\n",
              "      <th>508</th>\n",
              "      <td>Ansu Fati</td>\n",
              "      <td>17</td>\n",
              "      <td>LW</td>\n",
              "      <td>76</td>\n",
              "      <td>90</td>\n",
              "      <td>FC Barcelona</td>\n",
              "      <td>24000</td>\n",
              "      <td>1817</td>\n",
              "    </tr>\n",
              "  </tbody>\n",
              "</table>\n",
              "</div>"
            ],
            "text/plain": [
              "                    Nome  Idade Posicao  ...          Time  Salario Total_Pontos\n",
              "1033            M. Mount     21     CAM  ...       Chelsea    70000         1997\n",
              "2856   Cristiano Ronaldo     35      ST  ...      Juventus   220000         2221\n",
              "4262           S. García     29      ST  ...    Godoy Cruz    12000         1847\n",
              "752           F. de Jong     23      CM  ...  FC Barcelona   210000         2196\n",
              "508            Ansu Fati     17      LW  ...  FC Barcelona    24000         1817\n",
              "\n",
              "[5 rows x 8 columns]"
            ]
          },
          "metadata": {
            "tags": []
          },
          "execution_count": 44
        }
      ]
    },
    {
      "cell_type": "markdown",
      "metadata": {
        "id": "EwRHsc3mCZIq"
      },
      "source": [
        "### Transformando Salario para int64"
      ]
    },
    {
      "cell_type": "code",
      "metadata": {
        "colab": {
          "base_uri": "https://localhost:8080/"
        },
        "id": "PtdL2rs6CWcA",
        "outputId": "e2e50d2a-8896-4fd0-f43b-c8ecb06cd292"
      },
      "source": [
        "dados.info()"
      ],
      "execution_count": null,
      "outputs": [
        {
          "output_type": "stream",
          "text": [
            "<class 'pandas.core.frame.DataFrame'>\n",
            "Int64Index: 6000 entries, 0 to 5999\n",
            "Data columns (total 8 columns):\n",
            " #   Column        Non-Null Count  Dtype \n",
            "---  ------        --------------  ----- \n",
            " 0   Nome          6000 non-null   object\n",
            " 1   Idade         6000 non-null   int64 \n",
            " 2   Posicao       6000 non-null   object\n",
            " 3   Media         6000 non-null   int64 \n",
            " 4   Potencial     6000 non-null   int64 \n",
            " 5   Time          6000 non-null   object\n",
            " 6   Salario       6000 non-null   object\n",
            " 7   Total_Pontos  6000 non-null   int64 \n",
            "dtypes: int64(4), object(4)\n",
            "memory usage: 421.9+ KB\n"
          ],
          "name": "stdout"
        }
      ]
    },
    {
      "cell_type": "code",
      "metadata": {
        "id": "GS7dNMuwCdIU"
      },
      "source": [
        "dados.Salario = dados.Salario.astype(str).astype(int)"
      ],
      "execution_count": null,
      "outputs": []
    },
    {
      "cell_type": "code",
      "metadata": {
        "colab": {
          "base_uri": "https://localhost:8080/"
        },
        "id": "vKD_nMwlCo6A",
        "outputId": "c4455b53-8375-429d-b6a5-f4084effcd28"
      },
      "source": [
        "dados.info()"
      ],
      "execution_count": null,
      "outputs": [
        {
          "output_type": "stream",
          "text": [
            "<class 'pandas.core.frame.DataFrame'>\n",
            "Int64Index: 6000 entries, 0 to 5999\n",
            "Data columns (total 8 columns):\n",
            " #   Column        Non-Null Count  Dtype \n",
            "---  ------        --------------  ----- \n",
            " 0   Nome          6000 non-null   object\n",
            " 1   Idade         6000 non-null   int64 \n",
            " 2   Posicao       6000 non-null   object\n",
            " 3   Media         6000 non-null   int64 \n",
            " 4   Potencial     6000 non-null   int64 \n",
            " 5   Time          6000 non-null   object\n",
            " 6   Salario       6000 non-null   int64 \n",
            " 7   Total_Pontos  6000 non-null   int64 \n",
            "dtypes: int64(5), object(3)\n",
            "memory usage: 421.9+ KB\n"
          ],
          "name": "stdout"
        }
      ]
    },
    {
      "cell_type": "code",
      "metadata": {
        "colab": {
          "base_uri": "https://localhost:8080/",
          "height": 204
        },
        "id": "EWEBoytvCuBg",
        "outputId": "5e7c8432-c6e0-4872-877b-5d7d751a8856"
      },
      "source": [
        "dados.describe().T"
      ],
      "execution_count": null,
      "outputs": [
        {
          "output_type": "execute_result",
          "data": {
            "text/html": [
              "<div>\n",
              "<style scoped>\n",
              "    .dataframe tbody tr th:only-of-type {\n",
              "        vertical-align: middle;\n",
              "    }\n",
              "\n",
              "    .dataframe tbody tr th {\n",
              "        vertical-align: top;\n",
              "    }\n",
              "\n",
              "    .dataframe thead th {\n",
              "        text-align: right;\n",
              "    }\n",
              "</style>\n",
              "<table border=\"1\" class=\"dataframe\">\n",
              "  <thead>\n",
              "    <tr style=\"text-align: right;\">\n",
              "      <th></th>\n",
              "      <th>count</th>\n",
              "      <th>mean</th>\n",
              "      <th>std</th>\n",
              "      <th>min</th>\n",
              "      <th>25%</th>\n",
              "      <th>50%</th>\n",
              "      <th>75%</th>\n",
              "      <th>max</th>\n",
              "    </tr>\n",
              "  </thead>\n",
              "  <tbody>\n",
              "    <tr>\n",
              "      <th>Idade</th>\n",
              "      <td>6000.0</td>\n",
              "      <td>21.532333</td>\n",
              "      <td>4.872738</td>\n",
              "      <td>16.0</td>\n",
              "      <td>18.0</td>\n",
              "      <td>21.0</td>\n",
              "      <td>23.0</td>\n",
              "      <td>38.0</td>\n",
              "    </tr>\n",
              "    <tr>\n",
              "      <th>Media</th>\n",
              "      <td>6000.0</td>\n",
              "      <td>78.268833</td>\n",
              "      <td>6.598193</td>\n",
              "      <td>62.0</td>\n",
              "      <td>74.0</td>\n",
              "      <td>77.0</td>\n",
              "      <td>83.0</td>\n",
              "      <td>93.0</td>\n",
              "    </tr>\n",
              "    <tr>\n",
              "      <th>Potencial</th>\n",
              "      <td>6000.0</td>\n",
              "      <td>86.851667</td>\n",
              "      <td>4.625570</td>\n",
              "      <td>69.0</td>\n",
              "      <td>86.0</td>\n",
              "      <td>87.0</td>\n",
              "      <td>89.0</td>\n",
              "      <td>95.0</td>\n",
              "    </tr>\n",
              "    <tr>\n",
              "      <th>Salario</th>\n",
              "      <td>6000.0</td>\n",
              "      <td>65571.425000</td>\n",
              "      <td>87280.466527</td>\n",
              "      <td>500.0</td>\n",
              "      <td>7000.0</td>\n",
              "      <td>40000.0</td>\n",
              "      <td>95000.0</td>\n",
              "      <td>560000.0</td>\n",
              "    </tr>\n",
              "    <tr>\n",
              "      <th>Total_Pontos</th>\n",
              "      <td>6000.0</td>\n",
              "      <td>1927.909833</td>\n",
              "      <td>196.530184</td>\n",
              "      <td>911.0</td>\n",
              "      <td>1817.0</td>\n",
              "      <td>1962.0</td>\n",
              "      <td>2048.0</td>\n",
              "      <td>2336.0</td>\n",
              "    </tr>\n",
              "  </tbody>\n",
              "</table>\n",
              "</div>"
            ],
            "text/plain": [
              "               count          mean           std  ...      50%      75%       max\n",
              "Idade         6000.0     21.532333      4.872738  ...     21.0     23.0      38.0\n",
              "Media         6000.0     78.268833      6.598193  ...     77.0     83.0      93.0\n",
              "Potencial     6000.0     86.851667      4.625570  ...     87.0     89.0      95.0\n",
              "Salario       6000.0  65571.425000  87280.466527  ...  40000.0  95000.0  560000.0\n",
              "Total_Pontos  6000.0   1927.909833    196.530184  ...   1962.0   2048.0    2336.0\n",
              "\n",
              "[5 rows x 8 columns]"
            ]
          },
          "metadata": {
            "tags": []
          },
          "execution_count": 48
        }
      ]
    },
    {
      "cell_type": "markdown",
      "metadata": {
        "id": "wlPyYazvEKKj"
      },
      "source": [
        "### Eliminar arquivos duplicados"
      ]
    },
    {
      "cell_type": "code",
      "metadata": {
        "id": "XmLvSEwPENPo"
      },
      "source": [
        "dados.drop_duplicates(inplace=True)"
      ],
      "execution_count": null,
      "outputs": []
    },
    {
      "cell_type": "code",
      "metadata": {
        "id": "epDcdQXUE4CY"
      },
      "source": [
        "dados = dados[['Nome', 'Idade', 'Posicao', 'Media', 'Potencial', 'Time', 'Salario', 'Total_Pontos']]"
      ],
      "execution_count": null,
      "outputs": []
    },
    {
      "cell_type": "code",
      "metadata": {
        "colab": {
          "base_uri": "https://localhost:8080/"
        },
        "id": "yQbnDnUBEXSq",
        "outputId": "37296d14-4bf0-4403-d82b-e23568114dce"
      },
      "source": [
        "dados.info()"
      ],
      "execution_count": null,
      "outputs": [
        {
          "output_type": "stream",
          "text": [
            "<class 'pandas.core.frame.DataFrame'>\n",
            "Int64Index: 121 entries, 0 to 5253\n",
            "Data columns (total 8 columns):\n",
            " #   Column        Non-Null Count  Dtype \n",
            "---  ------        --------------  ----- \n",
            " 0   Nome          121 non-null    object\n",
            " 1   Idade         121 non-null    int64 \n",
            " 2   Posicao       121 non-null    object\n",
            " 3   Media         121 non-null    int64 \n",
            " 4   Potencial     121 non-null    int64 \n",
            " 5   Time          121 non-null    object\n",
            " 6   Salario       121 non-null    int64 \n",
            " 7   Total_Pontos  121 non-null    int64 \n",
            "dtypes: int64(5), object(3)\n",
            "memory usage: 8.5+ KB\n"
          ],
          "name": "stdout"
        }
      ]
    },
    {
      "cell_type": "markdown",
      "metadata": {
        "id": "CmV_6FgkIhA7"
      },
      "source": [
        "# **Task 3 - Responder algumas perguntas**"
      ]
    },
    {
      "cell_type": "markdown",
      "metadata": {
        "id": "_p1U81GwDs6a"
      },
      "source": [
        "Quem é o jogador mais novo e o mais velho?\r\n"
      ]
    },
    {
      "cell_type": "code",
      "metadata": {
        "colab": {
          "base_uri": "https://localhost:8080/",
          "height": 80
        },
        "id": "OV0CWrZLD0l8",
        "outputId": "fee97c72-8957-41ad-c56e-c0d2cb8ea7d3"
      },
      "source": [
        "dados[dados['Idade']==dados.Idade.min()]"
      ],
      "execution_count": null,
      "outputs": [
        {
          "output_type": "execute_result",
          "data": {
            "text/html": [
              "<div>\n",
              "<style scoped>\n",
              "    .dataframe tbody tr th:only-of-type {\n",
              "        vertical-align: middle;\n",
              "    }\n",
              "\n",
              "    .dataframe tbody tr th {\n",
              "        vertical-align: top;\n",
              "    }\n",
              "\n",
              "    .dataframe thead th {\n",
              "        text-align: right;\n",
              "    }\n",
              "</style>\n",
              "<table border=\"1\" class=\"dataframe\">\n",
              "  <thead>\n",
              "    <tr style=\"text-align: right;\">\n",
              "      <th></th>\n",
              "      <th>Nome</th>\n",
              "      <th>Idade</th>\n",
              "      <th>Posicao</th>\n",
              "      <th>Media</th>\n",
              "      <th>Potencial</th>\n",
              "      <th>Time</th>\n",
              "      <th>Salario</th>\n",
              "      <th>Total_Pontos</th>\n",
              "    </tr>\n",
              "  </thead>\n",
              "  <tbody>\n",
              "    <tr>\n",
              "      <th>29</th>\n",
              "      <td>R. Cherki</td>\n",
              "      <td>16</td>\n",
              "      <td>RW</td>\n",
              "      <td>69</td>\n",
              "      <td>88</td>\n",
              "      <td>Olympique Lyonnais</td>\n",
              "      <td>6000</td>\n",
              "      <td>1622</td>\n",
              "    </tr>\n",
              "  </tbody>\n",
              "</table>\n",
              "</div>"
            ],
            "text/plain": [
              "          Nome  Idade Posicao  ...                Time  Salario Total_Pontos\n",
              "29   R. Cherki     16      RW  ...  Olympique Lyonnais     6000         1622\n",
              "\n",
              "[1 rows x 8 columns]"
            ]
          },
          "metadata": {
            "tags": []
          },
          "execution_count": 69
        }
      ]
    },
    {
      "cell_type": "code",
      "metadata": {
        "colab": {
          "base_uri": "https://localhost:8080/",
          "height": 80
        },
        "id": "rdMCoqWFEo_l",
        "outputId": "76fb3f27-659e-4901-9ef1-090f6f1b259a"
      },
      "source": [
        "dados[dados['Idade']==dados.Idade.max()]"
      ],
      "execution_count": null,
      "outputs": [
        {
          "output_type": "execute_result",
          "data": {
            "text/html": [
              "<div>\n",
              "<style scoped>\n",
              "    .dataframe tbody tr th:only-of-type {\n",
              "        vertical-align: middle;\n",
              "    }\n",
              "\n",
              "    .dataframe tbody tr th {\n",
              "        vertical-align: top;\n",
              "    }\n",
              "\n",
              "    .dataframe thead th {\n",
              "        text-align: right;\n",
              "    }\n",
              "</style>\n",
              "<table border=\"1\" class=\"dataframe\">\n",
              "  <thead>\n",
              "    <tr style=\"text-align: right;\">\n",
              "      <th></th>\n",
              "      <th>Nome</th>\n",
              "      <th>Idade</th>\n",
              "      <th>Posicao</th>\n",
              "      <th>Media</th>\n",
              "      <th>Potencial</th>\n",
              "      <th>Time</th>\n",
              "      <th>Salario</th>\n",
              "      <th>Total_Pontos</th>\n",
              "    </tr>\n",
              "  </thead>\n",
              "  <tbody>\n",
              "    <tr>\n",
              "      <th>22</th>\n",
              "      <td>Z. Ibrahimović</td>\n",
              "      <td>38</td>\n",
              "      <td>ST</td>\n",
              "      <td>84</td>\n",
              "      <td>84</td>\n",
              "      <td>Milan</td>\n",
              "      <td>54000</td>\n",
              "      <td>2010</td>\n",
              "    </tr>\n",
              "  </tbody>\n",
              "</table>\n",
              "</div>"
            ],
            "text/plain": [
              "               Nome  Idade Posicao  ...   Time  Salario Total_Pontos\n",
              "22   Z. Ibrahimović     38      ST  ...  Milan    54000         2010\n",
              "\n",
              "[1 rows x 8 columns]"
            ]
          },
          "metadata": {
            "tags": []
          },
          "execution_count": 70
        }
      ]
    },
    {
      "cell_type": "markdown",
      "metadata": {
        "id": "8sT66V8SEkyA"
      },
      "source": [
        "Qual o jogador tem mais pontos no ranking?\r\n"
      ]
    },
    {
      "cell_type": "code",
      "metadata": {
        "colab": {
          "base_uri": "https://localhost:8080/",
          "height": 80
        },
        "id": "GrMwwouPFsI1",
        "outputId": "9d9b0616-5ac8-48ce-dc7b-bb3bc8c942cc"
      },
      "source": [
        "dados[dados['Total_Pontos']==dados.Total_Pontos.max()]"
      ],
      "execution_count": null,
      "outputs": [
        {
          "output_type": "execute_result",
          "data": {
            "text/html": [
              "<div>\n",
              "<style scoped>\n",
              "    .dataframe tbody tr th:only-of-type {\n",
              "        vertical-align: middle;\n",
              "    }\n",
              "\n",
              "    .dataframe tbody tr th {\n",
              "        vertical-align: top;\n",
              "    }\n",
              "\n",
              "    .dataframe thead th {\n",
              "        text-align: right;\n",
              "    }\n",
              "</style>\n",
              "<table border=\"1\" class=\"dataframe\">\n",
              "  <thead>\n",
              "    <tr style=\"text-align: right;\">\n",
              "      <th></th>\n",
              "      <th>Nome</th>\n",
              "      <th>Idade</th>\n",
              "      <th>Posicao</th>\n",
              "      <th>Media</th>\n",
              "      <th>Potencial</th>\n",
              "      <th>Time</th>\n",
              "      <th>Salario</th>\n",
              "      <th>Total_Pontos</th>\n",
              "    </tr>\n",
              "  </thead>\n",
              "  <tbody>\n",
              "    <tr>\n",
              "      <th>41</th>\n",
              "      <td>Bruno Fernandes</td>\n",
              "      <td>25</td>\n",
              "      <td>CAM</td>\n",
              "      <td>88</td>\n",
              "      <td>91</td>\n",
              "      <td>Manchester United</td>\n",
              "      <td>240000</td>\n",
              "      <td>2336</td>\n",
              "    </tr>\n",
              "  </tbody>\n",
              "</table>\n",
              "</div>"
            ],
            "text/plain": [
              "                Nome  Idade Posicao  ...               Time  Salario Total_Pontos\n",
              "41   Bruno Fernandes     25     CAM  ...  Manchester United   240000         2336\n",
              "\n",
              "[1 rows x 8 columns]"
            ]
          },
          "metadata": {
            "tags": []
          },
          "execution_count": 73
        }
      ]
    },
    {
      "cell_type": "code",
      "metadata": {
        "colab": {
          "base_uri": "https://localhost:8080/"
        },
        "id": "q8DbfpmXElNp",
        "outputId": "aaa3f510-0ac6-4af8-c1f7-66b4a9d6ada9"
      },
      "source": [
        "dados[dados['Total_Pontos']==dados.Total_Pontos.max()].Nome"
      ],
      "execution_count": null,
      "outputs": [
        {
          "output_type": "execute_result",
          "data": {
            "text/plain": [
              "41     Bruno Fernandes\n",
              "Name: Nome, dtype: object"
            ]
          },
          "metadata": {
            "tags": []
          },
          "execution_count": 72
        }
      ]
    },
    {
      "cell_type": "markdown",
      "metadata": {
        "id": "exG8cHxqFTbe"
      },
      "source": [
        "Qual posição mais comum dos jogadores nos nossos dados?"
      ]
    },
    {
      "cell_type": "code",
      "metadata": {
        "colab": {
          "base_uri": "https://localhost:8080/"
        },
        "id": "W-IasKO7Fvdt",
        "outputId": "96152a41-d60e-4b4f-beb7-70aee9c22076"
      },
      "source": [
        "dados.Posicao.value_counts()"
      ],
      "execution_count": null,
      "outputs": [
        {
          "output_type": "execute_result",
          "data": {
            "text/plain": [
              "ST     19\n",
              "CAM    16\n",
              "CB     15\n",
              "CM     15\n",
              "RW     11\n",
              "LW      9\n",
              "RM      9\n",
              "CDM     8\n",
              "RB      7\n",
              "LM      4\n",
              "LB      3\n",
              "GK      3\n",
              "CF      1\n",
              "RWB     1\n",
              "Name: Posicao, dtype: int64"
            ]
          },
          "metadata": {
            "tags": []
          },
          "execution_count": 74
        }
      ]
    },
    {
      "cell_type": "markdown",
      "metadata": {
        "id": "IH3udsl_F7Bv"
      },
      "source": [
        "O time que mais aparece nos dados?"
      ]
    },
    {
      "cell_type": "code",
      "metadata": {
        "colab": {
          "base_uri": "https://localhost:8080/"
        },
        "id": "10e9dpfOF7vL",
        "outputId": "c691b014-0111-4675-e970-e92cadd847cb"
      },
      "source": [
        "dados.Time.value_counts().head()"
      ],
      "execution_count": null,
      "outputs": [
        {
          "output_type": "execute_result",
          "data": {
            "text/plain": [
              "FC Barcelona         10\n",
              "Manchester City      10\n",
              "Chelsea               6\n",
              "FC Bayern München     6\n",
              "Liverpool             5\n",
              "Name: Time, dtype: int64"
            ]
          },
          "metadata": {
            "tags": []
          },
          "execution_count": 77
        }
      ]
    },
    {
      "cell_type": "markdown",
      "metadata": {
        "id": "G_h0HJshGDu8"
      },
      "source": [
        "Qual é a pontuação (coluna Media) mais alta e a mais baixa?"
      ]
    },
    {
      "cell_type": "code",
      "metadata": {
        "colab": {
          "base_uri": "https://localhost:8080/",
          "height": 80
        },
        "id": "jlIRrnVuGEb1",
        "outputId": "ebe1fe7a-b955-4614-aacf-33ada1e80052"
      },
      "source": [
        "dados[dados['Media']==dados.Media.min()]"
      ],
      "execution_count": null,
      "outputs": [
        {
          "output_type": "execute_result",
          "data": {
            "text/html": [
              "<div>\n",
              "<style scoped>\n",
              "    .dataframe tbody tr th:only-of-type {\n",
              "        vertical-align: middle;\n",
              "    }\n",
              "\n",
              "    .dataframe tbody tr th {\n",
              "        vertical-align: top;\n",
              "    }\n",
              "\n",
              "    .dataframe thead th {\n",
              "        text-align: right;\n",
              "    }\n",
              "</style>\n",
              "<table border=\"1\" class=\"dataframe\">\n",
              "  <thead>\n",
              "    <tr style=\"text-align: right;\">\n",
              "      <th></th>\n",
              "      <th>Nome</th>\n",
              "      <th>Idade</th>\n",
              "      <th>Posicao</th>\n",
              "      <th>Media</th>\n",
              "      <th>Potencial</th>\n",
              "      <th>Time</th>\n",
              "      <th>Salario</th>\n",
              "      <th>Total_Pontos</th>\n",
              "    </tr>\n",
              "  </thead>\n",
              "  <tbody>\n",
              "    <tr>\n",
              "      <th>103</th>\n",
              "      <td>B. Arrey-Mbi</td>\n",
              "      <td>17</td>\n",
              "      <td>CB</td>\n",
              "      <td>62</td>\n",
              "      <td>85</td>\n",
              "      <td>Bayern München II</td>\n",
              "      <td>500</td>\n",
              "      <td>1495</td>\n",
              "    </tr>\n",
              "  </tbody>\n",
              "</table>\n",
              "</div>"
            ],
            "text/plain": [
              "              Nome  Idade Posicao  ...               Time  Salario Total_Pontos\n",
              "103   B. Arrey-Mbi     17      CB  ...  Bayern München II      500         1495\n",
              "\n",
              "[1 rows x 8 columns]"
            ]
          },
          "metadata": {
            "tags": []
          },
          "execution_count": 79
        }
      ]
    },
    {
      "cell_type": "code",
      "metadata": {
        "colab": {
          "base_uri": "https://localhost:8080/",
          "height": 80
        },
        "id": "VB5R9V4bGQxb",
        "outputId": "967b6e2a-2f51-45e3-80d5-a549c9e7ca2a"
      },
      "source": [
        "dados[dados['Media']==dados.Media.max()]"
      ],
      "execution_count": null,
      "outputs": [
        {
          "output_type": "execute_result",
          "data": {
            "text/html": [
              "<div>\n",
              "<style scoped>\n",
              "    .dataframe tbody tr th:only-of-type {\n",
              "        vertical-align: middle;\n",
              "    }\n",
              "\n",
              "    .dataframe tbody tr th {\n",
              "        vertical-align: top;\n",
              "    }\n",
              "\n",
              "    .dataframe thead th {\n",
              "        text-align: right;\n",
              "    }\n",
              "</style>\n",
              "<table border=\"1\" class=\"dataframe\">\n",
              "  <thead>\n",
              "    <tr style=\"text-align: right;\">\n",
              "      <th></th>\n",
              "      <th>Nome</th>\n",
              "      <th>Idade</th>\n",
              "      <th>Posicao</th>\n",
              "      <th>Media</th>\n",
              "      <th>Potencial</th>\n",
              "      <th>Time</th>\n",
              "      <th>Salario</th>\n",
              "      <th>Total_Pontos</th>\n",
              "    </tr>\n",
              "  </thead>\n",
              "  <tbody>\n",
              "    <tr>\n",
              "      <th>23</th>\n",
              "      <td>L. Messi</td>\n",
              "      <td>33</td>\n",
              "      <td>RW</td>\n",
              "      <td>93</td>\n",
              "      <td>93</td>\n",
              "      <td>FC Barcelona</td>\n",
              "      <td>560000</td>\n",
              "      <td>2231</td>\n",
              "    </tr>\n",
              "  </tbody>\n",
              "</table>\n",
              "</div>"
            ],
            "text/plain": [
              "         Nome  Idade Posicao  ...          Time  Salario Total_Pontos\n",
              "23   L. Messi     33      RW  ...  FC Barcelona   560000         2231\n",
              "\n",
              "[1 rows x 8 columns]"
            ]
          },
          "metadata": {
            "tags": []
          },
          "execution_count": 80
        }
      ]
    },
    {
      "cell_type": "markdown",
      "metadata": {
        "id": "8BElmkpaGT8X"
      },
      "source": [
        "Quem tem o maior e o menor salário?"
      ]
    },
    {
      "cell_type": "code",
      "metadata": {
        "colab": {
          "base_uri": "https://localhost:8080/",
          "height": 173
        },
        "id": "0U6Gs1ZTGTvP",
        "outputId": "69d55ccb-635d-4ef7-dd9e-267ec0db63e8"
      },
      "source": [
        "dados[dados['Salario']==dados.Salario.min()]"
      ],
      "execution_count": null,
      "outputs": [
        {
          "output_type": "execute_result",
          "data": {
            "text/html": [
              "<div>\n",
              "<style scoped>\n",
              "    .dataframe tbody tr th:only-of-type {\n",
              "        vertical-align: middle;\n",
              "    }\n",
              "\n",
              "    .dataframe tbody tr th {\n",
              "        vertical-align: top;\n",
              "    }\n",
              "\n",
              "    .dataframe thead th {\n",
              "        text-align: right;\n",
              "    }\n",
              "</style>\n",
              "<table border=\"1\" class=\"dataframe\">\n",
              "  <thead>\n",
              "    <tr style=\"text-align: right;\">\n",
              "      <th></th>\n",
              "      <th>Nome</th>\n",
              "      <th>Idade</th>\n",
              "      <th>Posicao</th>\n",
              "      <th>Media</th>\n",
              "      <th>Potencial</th>\n",
              "      <th>Time</th>\n",
              "      <th>Salario</th>\n",
              "      <th>Total_Pontos</th>\n",
              "    </tr>\n",
              "  </thead>\n",
              "  <tbody>\n",
              "    <tr>\n",
              "      <th>6</th>\n",
              "      <td>J. Gvardiol</td>\n",
              "      <td>18</td>\n",
              "      <td>CB</td>\n",
              "      <td>72</td>\n",
              "      <td>87</td>\n",
              "      <td>Dinamo Zagreb</td>\n",
              "      <td>500</td>\n",
              "      <td>1836</td>\n",
              "    </tr>\n",
              "    <tr>\n",
              "      <th>45</th>\n",
              "      <td>A. Hložek</td>\n",
              "      <td>17</td>\n",
              "      <td>ST</td>\n",
              "      <td>74</td>\n",
              "      <td>87</td>\n",
              "      <td>Sparta Praha</td>\n",
              "      <td>500</td>\n",
              "      <td>1881</td>\n",
              "    </tr>\n",
              "    <tr>\n",
              "      <th>47</th>\n",
              "      <td>C. Tzolis</td>\n",
              "      <td>18</td>\n",
              "      <td>LW</td>\n",
              "      <td>70</td>\n",
              "      <td>87</td>\n",
              "      <td>PAOK</td>\n",
              "      <td>500</td>\n",
              "      <td>1815</td>\n",
              "    </tr>\n",
              "    <tr>\n",
              "      <th>103</th>\n",
              "      <td>B. Arrey-Mbi</td>\n",
              "      <td>17</td>\n",
              "      <td>CB</td>\n",
              "      <td>62</td>\n",
              "      <td>85</td>\n",
              "      <td>Bayern München II</td>\n",
              "      <td>500</td>\n",
              "      <td>1495</td>\n",
              "    </tr>\n",
              "  </tbody>\n",
              "</table>\n",
              "</div>"
            ],
            "text/plain": [
              "              Nome  Idade Posicao  ...               Time  Salario Total_Pontos\n",
              "6      J. Gvardiol     18      CB  ...      Dinamo Zagreb      500         1836\n",
              "45       A. Hložek     17      ST  ...       Sparta Praha      500         1881\n",
              "47       C. Tzolis     18      LW  ...               PAOK      500         1815\n",
              "103   B. Arrey-Mbi     17      CB  ...  Bayern München II      500         1495\n",
              "\n",
              "[4 rows x 8 columns]"
            ]
          },
          "metadata": {
            "tags": []
          },
          "execution_count": 84
        }
      ]
    },
    {
      "cell_type": "code",
      "metadata": {
        "colab": {
          "base_uri": "https://localhost:8080/",
          "height": 80
        },
        "id": "YLKdQS7GGXkz",
        "outputId": "0bf458b2-ffda-4b7f-9749-15058f4eca4d"
      },
      "source": [
        "dados[dados['Salario']==dados.Salario.max()]"
      ],
      "execution_count": null,
      "outputs": [
        {
          "output_type": "execute_result",
          "data": {
            "text/html": [
              "<div>\n",
              "<style scoped>\n",
              "    .dataframe tbody tr th:only-of-type {\n",
              "        vertical-align: middle;\n",
              "    }\n",
              "\n",
              "    .dataframe tbody tr th {\n",
              "        vertical-align: top;\n",
              "    }\n",
              "\n",
              "    .dataframe thead th {\n",
              "        text-align: right;\n",
              "    }\n",
              "</style>\n",
              "<table border=\"1\" class=\"dataframe\">\n",
              "  <thead>\n",
              "    <tr style=\"text-align: right;\">\n",
              "      <th></th>\n",
              "      <th>Nome</th>\n",
              "      <th>Idade</th>\n",
              "      <th>Posicao</th>\n",
              "      <th>Media</th>\n",
              "      <th>Potencial</th>\n",
              "      <th>Time</th>\n",
              "      <th>Salario</th>\n",
              "      <th>Total_Pontos</th>\n",
              "    </tr>\n",
              "  </thead>\n",
              "  <tbody>\n",
              "    <tr>\n",
              "      <th>23</th>\n",
              "      <td>L. Messi</td>\n",
              "      <td>33</td>\n",
              "      <td>RW</td>\n",
              "      <td>93</td>\n",
              "      <td>93</td>\n",
              "      <td>FC Barcelona</td>\n",
              "      <td>560000</td>\n",
              "      <td>2231</td>\n",
              "    </tr>\n",
              "  </tbody>\n",
              "</table>\n",
              "</div>"
            ],
            "text/plain": [
              "         Nome  Idade Posicao  ...          Time  Salario Total_Pontos\n",
              "23   L. Messi     33      RW  ...  FC Barcelona   560000         2231\n",
              "\n",
              "[1 rows x 8 columns]"
            ]
          },
          "metadata": {
            "tags": []
          },
          "execution_count": 83
        }
      ]
    },
    {
      "cell_type": "markdown",
      "metadata": {
        "id": "Ua4bYzK-C89f"
      },
      "source": [
        "Qual é o salário do Cristiano Ronaldo?"
      ]
    },
    {
      "cell_type": "code",
      "metadata": {
        "colab": {
          "base_uri": "https://localhost:8080/"
        },
        "id": "S3l4J2oyC7ni",
        "outputId": "74e046d3-cbf0-465d-a027-5ba74162d3b0"
      },
      "source": [
        "dados[dados['Nome']==' Cristiano Ronaldo']['Salario']"
      ],
      "execution_count": null,
      "outputs": [
        {
          "output_type": "execute_result",
          "data": {
            "text/plain": [
              "36    220000\n",
              "Name: Salario, dtype: int64"
            ]
          },
          "metadata": {
            "tags": []
          },
          "execution_count": 89
        }
      ]
    },
    {
      "cell_type": "markdown",
      "metadata": {
        "id": "xIHdxSZ8HC_8"
      },
      "source": [
        "Quantos time únicos existem?"
      ]
    },
    {
      "cell_type": "code",
      "metadata": {
        "colab": {
          "base_uri": "https://localhost:8080/"
        },
        "id": "RNQ28nknHFPb",
        "outputId": "0ad0cdbf-b2cc-4f7a-b5ea-50c849555d44"
      },
      "source": [
        "dados.Time.nunique()"
      ],
      "execution_count": null,
      "outputs": [
        {
          "output_type": "execute_result",
          "data": {
            "text/plain": [
              "58"
            ]
          },
          "metadata": {
            "tags": []
          },
          "execution_count": 90
        }
      ]
    },
    {
      "cell_type": "markdown",
      "metadata": {
        "id": "PCoH59m8HHWT"
      },
      "source": [
        "Quantos jogadores ganham mais do que 100mil de salário?"
      ]
    },
    {
      "cell_type": "code",
      "metadata": {
        "colab": {
          "base_uri": "https://localhost:8080/"
        },
        "id": "ATPuyUDQHLYt",
        "outputId": "7ec670b0-a8aa-4244-dc42-6c92733561d2"
      },
      "source": [
        "dados.Salario.value_counts()"
      ],
      "execution_count": null,
      "outputs": [
        {
          "output_type": "execute_result",
          "data": {
            "text/plain": [
              "6000      6\n",
              "7000      6\n",
              "40000     4\n",
              "25000     4\n",
              "500       4\n",
              "         ..\n",
              "36000     1\n",
              "240000    1\n",
              "14000     1\n",
              "67000     1\n",
              "175000    1\n",
              "Name: Salario, Length: 70, dtype: int64"
            ]
          },
          "metadata": {
            "tags": []
          },
          "execution_count": 91
        }
      ]
    },
    {
      "cell_type": "code",
      "metadata": {
        "colab": {
          "base_uri": "https://localhost:8080/",
          "height": 917
        },
        "id": "CCBsJGNLHYYz",
        "outputId": "4f85a127-2784-4898-fc81-31e39ac4a479"
      },
      "source": [
        "dados[dados.Salario>=100000]"
      ],
      "execution_count": null,
      "outputs": [
        {
          "output_type": "execute_result",
          "data": {
            "text/html": [
              "<div>\n",
              "<style scoped>\n",
              "    .dataframe tbody tr th:only-of-type {\n",
              "        vertical-align: middle;\n",
              "    }\n",
              "\n",
              "    .dataframe tbody tr th {\n",
              "        vertical-align: top;\n",
              "    }\n",
              "\n",
              "    .dataframe thead th {\n",
              "        text-align: right;\n",
              "    }\n",
              "</style>\n",
              "<table border=\"1\" class=\"dataframe\">\n",
              "  <thead>\n",
              "    <tr style=\"text-align: right;\">\n",
              "      <th></th>\n",
              "      <th>Nome</th>\n",
              "      <th>Idade</th>\n",
              "      <th>Posicao</th>\n",
              "      <th>Media</th>\n",
              "      <th>Potencial</th>\n",
              "      <th>Time</th>\n",
              "      <th>Salario</th>\n",
              "      <th>Total_Pontos</th>\n",
              "    </tr>\n",
              "  </thead>\n",
              "  <tbody>\n",
              "    <tr>\n",
              "      <th>5</th>\n",
              "      <td>I. Gündoğan</td>\n",
              "      <td>29</td>\n",
              "      <td>CM</td>\n",
              "      <td>83</td>\n",
              "      <td>83</td>\n",
              "      <td>Manchester City</td>\n",
              "      <td>160000</td>\n",
              "      <td>2176</td>\n",
              "    </tr>\n",
              "    <tr>\n",
              "      <th>9</th>\n",
              "      <td>Mariano</td>\n",
              "      <td>26</td>\n",
              "      <td>ST</td>\n",
              "      <td>76</td>\n",
              "      <td>77</td>\n",
              "      <td>Real Madrid</td>\n",
              "      <td>120000</td>\n",
              "      <td>1984</td>\n",
              "    </tr>\n",
              "    <tr>\n",
              "      <th>10</th>\n",
              "      <td>Rúben Dias</td>\n",
              "      <td>23</td>\n",
              "      <td>CB</td>\n",
              "      <td>82</td>\n",
              "      <td>87</td>\n",
              "      <td>Manchester City</td>\n",
              "      <td>110000</td>\n",
              "      <td>1777</td>\n",
              "    </tr>\n",
              "    <tr>\n",
              "      <th>14</th>\n",
              "      <td>Alisson</td>\n",
              "      <td>27</td>\n",
              "      <td>GK</td>\n",
              "      <td>90</td>\n",
              "      <td>91</td>\n",
              "      <td>Liverpool</td>\n",
              "      <td>160000</td>\n",
              "      <td>1389</td>\n",
              "    </tr>\n",
              "    <tr>\n",
              "      <th>23</th>\n",
              "      <td>L. Messi</td>\n",
              "      <td>33</td>\n",
              "      <td>RW</td>\n",
              "      <td>93</td>\n",
              "      <td>93</td>\n",
              "      <td>FC Barcelona</td>\n",
              "      <td>560000</td>\n",
              "      <td>2231</td>\n",
              "    </tr>\n",
              "    <tr>\n",
              "      <th>30</th>\n",
              "      <td>T. Alexander-Arnold</td>\n",
              "      <td>21</td>\n",
              "      <td>RB</td>\n",
              "      <td>87</td>\n",
              "      <td>92</td>\n",
              "      <td>Liverpool</td>\n",
              "      <td>110000</td>\n",
              "      <td>2214</td>\n",
              "    </tr>\n",
              "    <tr>\n",
              "      <th>32</th>\n",
              "      <td>F. de Jong</td>\n",
              "      <td>23</td>\n",
              "      <td>CM</td>\n",
              "      <td>86</td>\n",
              "      <td>91</td>\n",
              "      <td>FC Barcelona</td>\n",
              "      <td>210000</td>\n",
              "      <td>2196</td>\n",
              "    </tr>\n",
              "    <tr>\n",
              "      <th>36</th>\n",
              "      <td>Cristiano Ronaldo</td>\n",
              "      <td>35</td>\n",
              "      <td>ST</td>\n",
              "      <td>92</td>\n",
              "      <td>92</td>\n",
              "      <td>Juventus</td>\n",
              "      <td>220000</td>\n",
              "      <td>2221</td>\n",
              "    </tr>\n",
              "    <tr>\n",
              "      <th>39</th>\n",
              "      <td>K. Mbappé</td>\n",
              "      <td>21</td>\n",
              "      <td>ST</td>\n",
              "      <td>90</td>\n",
              "      <td>95</td>\n",
              "      <td>Paris Saint-Germain</td>\n",
              "      <td>160000</td>\n",
              "      <td>2147</td>\n",
              "    </tr>\n",
              "    <tr>\n",
              "      <th>41</th>\n",
              "      <td>Bruno Fernandes</td>\n",
              "      <td>25</td>\n",
              "      <td>CAM</td>\n",
              "      <td>88</td>\n",
              "      <td>91</td>\n",
              "      <td>Manchester United</td>\n",
              "      <td>240000</td>\n",
              "      <td>2336</td>\n",
              "    </tr>\n",
              "    <tr>\n",
              "      <th>42</th>\n",
              "      <td>J. Kimmich</td>\n",
              "      <td>25</td>\n",
              "      <td>CDM</td>\n",
              "      <td>89</td>\n",
              "      <td>90</td>\n",
              "      <td>FC Bayern München</td>\n",
              "      <td>150000</td>\n",
              "      <td>2284</td>\n",
              "    </tr>\n",
              "    <tr>\n",
              "      <th>52</th>\n",
              "      <td>F. Valverde</td>\n",
              "      <td>21</td>\n",
              "      <td>CM</td>\n",
              "      <td>83</td>\n",
              "      <td>89</td>\n",
              "      <td>Real Madrid</td>\n",
              "      <td>135000</td>\n",
              "      <td>2174</td>\n",
              "    </tr>\n",
              "    <tr>\n",
              "      <th>63</th>\n",
              "      <td>R. Sterling</td>\n",
              "      <td>25</td>\n",
              "      <td>LW</td>\n",
              "      <td>88</td>\n",
              "      <td>89</td>\n",
              "      <td>Manchester City</td>\n",
              "      <td>270000</td>\n",
              "      <td>2111</td>\n",
              "    </tr>\n",
              "    <tr>\n",
              "      <th>74</th>\n",
              "      <td>Raphinha</td>\n",
              "      <td>23</td>\n",
              "      <td>RM</td>\n",
              "      <td>81</td>\n",
              "      <td>87</td>\n",
              "      <td>Leeds United</td>\n",
              "      <td>100000</td>\n",
              "      <td>2071</td>\n",
              "    </tr>\n",
              "    <tr>\n",
              "      <th>76</th>\n",
              "      <td>João Cancelo</td>\n",
              "      <td>26</td>\n",
              "      <td>RB</td>\n",
              "      <td>84</td>\n",
              "      <td>87</td>\n",
              "      <td>Manchester City</td>\n",
              "      <td>155000</td>\n",
              "      <td>2199</td>\n",
              "    </tr>\n",
              "    <tr>\n",
              "      <th>79</th>\n",
              "      <td>Bernardo Silva</td>\n",
              "      <td>25</td>\n",
              "      <td>CAM</td>\n",
              "      <td>86</td>\n",
              "      <td>87</td>\n",
              "      <td>Manchester City</td>\n",
              "      <td>195000</td>\n",
              "      <td>2119</td>\n",
              "    </tr>\n",
              "    <tr>\n",
              "      <th>80</th>\n",
              "      <td>M. Ødegaard</td>\n",
              "      <td>21</td>\n",
              "      <td>CAM</td>\n",
              "      <td>83</td>\n",
              "      <td>89</td>\n",
              "      <td>Arsenal</td>\n",
              "      <td>135000</td>\n",
              "      <td>2096</td>\n",
              "    </tr>\n",
              "    <tr>\n",
              "      <th>81</th>\n",
              "      <td>M. Rashford</td>\n",
              "      <td>22</td>\n",
              "      <td>LM</td>\n",
              "      <td>85</td>\n",
              "      <td>91</td>\n",
              "      <td>Manchester United</td>\n",
              "      <td>150000</td>\n",
              "      <td>2158</td>\n",
              "    </tr>\n",
              "    <tr>\n",
              "      <th>84</th>\n",
              "      <td>O. Dembélé</td>\n",
              "      <td>23</td>\n",
              "      <td>RW</td>\n",
              "      <td>83</td>\n",
              "      <td>89</td>\n",
              "      <td>FC Barcelona</td>\n",
              "      <td>175000</td>\n",
              "      <td>1989</td>\n",
              "    </tr>\n",
              "    <tr>\n",
              "      <th>96</th>\n",
              "      <td>R. Lewandowski</td>\n",
              "      <td>31</td>\n",
              "      <td>ST</td>\n",
              "      <td>92</td>\n",
              "      <td>92</td>\n",
              "      <td>FC Bayern München</td>\n",
              "      <td>270000</td>\n",
              "      <td>2213</td>\n",
              "    </tr>\n",
              "    <tr>\n",
              "      <th>101</th>\n",
              "      <td>Neymar Jr</td>\n",
              "      <td>28</td>\n",
              "      <td>LW</td>\n",
              "      <td>91</td>\n",
              "      <td>91</td>\n",
              "      <td>Paris Saint-Germain</td>\n",
              "      <td>270000</td>\n",
              "      <td>2175</td>\n",
              "    </tr>\n",
              "    <tr>\n",
              "      <th>104</th>\n",
              "      <td>Ferran Torres</td>\n",
              "      <td>20</td>\n",
              "      <td>RW</td>\n",
              "      <td>80</td>\n",
              "      <td>88</td>\n",
              "      <td>Manchester City</td>\n",
              "      <td>100000</td>\n",
              "      <td>1951</td>\n",
              "    </tr>\n",
              "    <tr>\n",
              "      <th>105</th>\n",
              "      <td>H. Son</td>\n",
              "      <td>27</td>\n",
              "      <td>LM</td>\n",
              "      <td>89</td>\n",
              "      <td>89</td>\n",
              "      <td>Tottenham Hotspur</td>\n",
              "      <td>210000</td>\n",
              "      <td>2146</td>\n",
              "    </tr>\n",
              "    <tr>\n",
              "      <th>108</th>\n",
              "      <td>L. Goretzka</td>\n",
              "      <td>25</td>\n",
              "      <td>CM</td>\n",
              "      <td>86</td>\n",
              "      <td>89</td>\n",
              "      <td>FC Bayern München</td>\n",
              "      <td>120000</td>\n",
              "      <td>2296</td>\n",
              "    </tr>\n",
              "    <tr>\n",
              "      <th>109</th>\n",
              "      <td>K. De Bruyne</td>\n",
              "      <td>29</td>\n",
              "      <td>CM</td>\n",
              "      <td>91</td>\n",
              "      <td>91</td>\n",
              "      <td>Manchester City</td>\n",
              "      <td>370000</td>\n",
              "      <td>2303</td>\n",
              "    </tr>\n",
              "    <tr>\n",
              "      <th>110</th>\n",
              "      <td>T. Werner</td>\n",
              "      <td>24</td>\n",
              "      <td>ST</td>\n",
              "      <td>84</td>\n",
              "      <td>87</td>\n",
              "      <td>Chelsea</td>\n",
              "      <td>125000</td>\n",
              "      <td>2016</td>\n",
              "    </tr>\n",
              "    <tr>\n",
              "      <th>111</th>\n",
              "      <td>M. Salah</td>\n",
              "      <td>28</td>\n",
              "      <td>RW</td>\n",
              "      <td>90</td>\n",
              "      <td>90</td>\n",
              "      <td>Liverpool</td>\n",
              "      <td>250000</td>\n",
              "      <td>2211</td>\n",
              "    </tr>\n",
              "    <tr>\n",
              "      <th>115</th>\n",
              "      <td>V. van Dijk</td>\n",
              "      <td>28</td>\n",
              "      <td>CB</td>\n",
              "      <td>90</td>\n",
              "      <td>91</td>\n",
              "      <td>Liverpool</td>\n",
              "      <td>210000</td>\n",
              "      <td>2109</td>\n",
              "    </tr>\n",
              "  </tbody>\n",
              "</table>\n",
              "</div>"
            ],
            "text/plain": [
              "                     Nome  Idade  ... Salario  Total_Pontos\n",
              "5             I. Gündoğan     29  ...  160000          2176\n",
              "9                 Mariano     26  ...  120000          1984\n",
              "10             Rúben Dias     23  ...  110000          1777\n",
              "14                Alisson     27  ...  160000          1389\n",
              "23               L. Messi     33  ...  560000          2231\n",
              "30    T. Alexander-Arnold     21  ...  110000          2214\n",
              "32             F. de Jong     23  ...  210000          2196\n",
              "36      Cristiano Ronaldo     35  ...  220000          2221\n",
              "39              K. Mbappé     21  ...  160000          2147\n",
              "41        Bruno Fernandes     25  ...  240000          2336\n",
              "42             J. Kimmich     25  ...  150000          2284\n",
              "52            F. Valverde     21  ...  135000          2174\n",
              "63            R. Sterling     25  ...  270000          2111\n",
              "74               Raphinha     23  ...  100000          2071\n",
              "76           João Cancelo     26  ...  155000          2199\n",
              "79         Bernardo Silva     25  ...  195000          2119\n",
              "80            M. Ødegaard     21  ...  135000          2096\n",
              "81            M. Rashford     22  ...  150000          2158\n",
              "84             O. Dembélé     23  ...  175000          1989\n",
              "96         R. Lewandowski     31  ...  270000          2213\n",
              "101             Neymar Jr     28  ...  270000          2175\n",
              "104         Ferran Torres     20  ...  100000          1951\n",
              "105                H. Son     27  ...  210000          2146\n",
              "108           L. Goretzka     25  ...  120000          2296\n",
              "109          K. De Bruyne     29  ...  370000          2303\n",
              "110             T. Werner     24  ...  125000          2016\n",
              "111              M. Salah     28  ...  250000          2211\n",
              "115           V. van Dijk     28  ...  210000          2109\n",
              "\n",
              "[28 rows x 8 columns]"
            ]
          },
          "metadata": {
            "tags": []
          },
          "execution_count": 95
        }
      ]
    },
    {
      "cell_type": "code",
      "metadata": {
        "id": "5hjAsjEfHjR7"
      },
      "source": [
        "sal_100 = dados[dados.Salario>=100000]"
      ],
      "execution_count": null,
      "outputs": []
    },
    {
      "cell_type": "code",
      "metadata": {
        "colab": {
          "base_uri": "https://localhost:8080/"
        },
        "id": "NZeRWekVHnAd",
        "outputId": "f1b5f0aa-a1fc-4443-8932-f6d3403afa4e"
      },
      "source": [
        "sal_100.Nome.nunique()"
      ],
      "execution_count": null,
      "outputs": [
        {
          "output_type": "execute_result",
          "data": {
            "text/plain": [
              "28"
            ]
          },
          "metadata": {
            "tags": []
          },
          "execution_count": 97
        }
      ]
    },
    {
      "cell_type": "code",
      "metadata": {
        "colab": {
          "base_uri": "https://localhost:8080/"
        },
        "id": "J02U7iYxHuQL",
        "outputId": "ee255c46-0bf2-4fec-c399-ff514d191a6a"
      },
      "source": [
        "len(dados[dados.Salario>=100000])"
      ],
      "execution_count": null,
      "outputs": [
        {
          "output_type": "execute_result",
          "data": {
            "text/plain": [
              "28"
            ]
          },
          "metadata": {
            "tags": []
          },
          "execution_count": 98
        }
      ]
    },
    {
      "cell_type": "markdown",
      "metadata": {
        "id": "jQ9YT0hPHwka"
      },
      "source": [
        "Qual é a média salarial dos 5 clubes mais comuns?"
      ]
    },
    {
      "cell_type": "code",
      "metadata": {
        "colab": {
          "base_uri": "https://localhost:8080/"
        },
        "id": "r_Ah5j3qHzmG",
        "outputId": "107b3e4a-265b-47d4-de13-c345131b400c"
      },
      "source": [
        "dados.Time.value_counts().head()"
      ],
      "execution_count": null,
      "outputs": [
        {
          "output_type": "execute_result",
          "data": {
            "text/plain": [
              "FC Barcelona         10\n",
              "Manchester City      10\n",
              "Chelsea               6\n",
              "FC Bayern München     6\n",
              "Liverpool             5\n",
              "Name: Time, dtype: int64"
            ]
          },
          "metadata": {
            "tags": []
          },
          "execution_count": 106
        }
      ]
    },
    {
      "cell_type": "code",
      "metadata": {
        "id": "--c0M1hFIMCJ"
      },
      "source": [
        "a1 = dados[dados.Time=='FC Barcelona'].Salario.mean()"
      ],
      "execution_count": null,
      "outputs": []
    },
    {
      "cell_type": "code",
      "metadata": {
        "id": "ZqDDF3z2IXAm"
      },
      "source": [
        "a2 = dados[dados.Time=='Manchester City'].Salario.mean()"
      ],
      "execution_count": null,
      "outputs": []
    },
    {
      "cell_type": "code",
      "metadata": {
        "id": "te-tRjipIYQU"
      },
      "source": [
        "a3 = dados[dados.Time=='Chelsea'].Salario.mean()"
      ],
      "execution_count": null,
      "outputs": []
    },
    {
      "cell_type": "code",
      "metadata": {
        "id": "KPVdTwBZIX4V"
      },
      "source": [
        "a4 = dados[dados.Time=='FC Bayern München'].Salario.mean()"
      ],
      "execution_count": null,
      "outputs": []
    },
    {
      "cell_type": "code",
      "metadata": {
        "id": "F8eIEz1jIXpV"
      },
      "source": [
        "a5 = dados[dados.Time=='Liverpool'].Salario.mean()"
      ],
      "execution_count": null,
      "outputs": []
    },
    {
      "cell_type": "code",
      "metadata": {
        "colab": {
          "base_uri": "https://localhost:8080/"
        },
        "id": "W2Che5vfIkgG",
        "outputId": "14d0b8c0-770b-416c-c02b-b3e4fb157e40"
      },
      "source": [
        "(a1+a2+a3+a4+a5)/5"
      ],
      "execution_count": null,
      "outputs": [
        {
          "output_type": "execute_result",
          "data": {
            "text/plain": [
              "119593.33333333334"
            ]
          },
          "metadata": {
            "tags": []
          },
          "execution_count": 121
        }
      ]
    },
    {
      "cell_type": "markdown",
      "metadata": {
        "id": "FJEbPk7jIp08"
      },
      "source": [
        "# Salvar dados atualizados"
      ]
    },
    {
      "cell_type": "code",
      "metadata": {
        "id": "kbXSGqy4Irym"
      },
      "source": [
        "dados.to_csv('sds_fifa_atualizado.csv', index = False)"
      ],
      "execution_count": null,
      "outputs": []
    },
    {
      "cell_type": "code",
      "metadata": {
        "id": "mGjgvNPVI22h",
        "colab": {
          "base_uri": "https://localhost:8080/",
          "height": 419
        },
        "outputId": "e27c5839-e12a-4f98-9f64-46157658a1f2"
      },
      "source": [
        "dados"
      ],
      "execution_count": null,
      "outputs": [
        {
          "output_type": "execute_result",
          "data": {
            "text/html": [
              "<div>\n",
              "<style scoped>\n",
              "    .dataframe tbody tr th:only-of-type {\n",
              "        vertical-align: middle;\n",
              "    }\n",
              "\n",
              "    .dataframe tbody tr th {\n",
              "        vertical-align: top;\n",
              "    }\n",
              "\n",
              "    .dataframe thead th {\n",
              "        text-align: right;\n",
              "    }\n",
              "</style>\n",
              "<table border=\"1\" class=\"dataframe\">\n",
              "  <thead>\n",
              "    <tr style=\"text-align: right;\">\n",
              "      <th></th>\n",
              "      <th>Nome</th>\n",
              "      <th>Idade</th>\n",
              "      <th>Posicao</th>\n",
              "      <th>Media</th>\n",
              "      <th>Potencial</th>\n",
              "      <th>Time</th>\n",
              "      <th>Salario</th>\n",
              "      <th>Total_Pontos</th>\n",
              "    </tr>\n",
              "  </thead>\n",
              "  <tbody>\n",
              "    <tr>\n",
              "      <th>0</th>\n",
              "      <td>G. Obertan</td>\n",
              "      <td>31</td>\n",
              "      <td>CAM</td>\n",
              "      <td>69</td>\n",
              "      <td>69</td>\n",
              "      <td>BB Erzurumspor</td>\n",
              "      <td>7000</td>\n",
              "      <td>1753</td>\n",
              "    </tr>\n",
              "    <tr>\n",
              "      <th>1</th>\n",
              "      <td>P. Foden</td>\n",
              "      <td>20</td>\n",
              "      <td>CAM</td>\n",
              "      <td>81</td>\n",
              "      <td>91</td>\n",
              "      <td>Manchester City</td>\n",
              "      <td>95000</td>\n",
              "      <td>1997</td>\n",
              "    </tr>\n",
              "    <tr>\n",
              "      <th>2</th>\n",
              "      <td>S. García</td>\n",
              "      <td>29</td>\n",
              "      <td>ST</td>\n",
              "      <td>74</td>\n",
              "      <td>74</td>\n",
              "      <td>Godoy Cruz</td>\n",
              "      <td>12000</td>\n",
              "      <td>1847</td>\n",
              "    </tr>\n",
              "    <tr>\n",
              "      <th>3</th>\n",
              "      <td>Trincão</td>\n",
              "      <td>20</td>\n",
              "      <td>RW</td>\n",
              "      <td>77</td>\n",
              "      <td>87</td>\n",
              "      <td>FC Barcelona</td>\n",
              "      <td>95000</td>\n",
              "      <td>1906</td>\n",
              "    </tr>\n",
              "    <tr>\n",
              "      <th>4</th>\n",
              "      <td>A. Gignac</td>\n",
              "      <td>34</td>\n",
              "      <td>ST</td>\n",
              "      <td>81</td>\n",
              "      <td>81</td>\n",
              "      <td>Tigres U.A.N.L.</td>\n",
              "      <td>66000</td>\n",
              "      <td>2018</td>\n",
              "    </tr>\n",
              "    <tr>\n",
              "      <th>...</th>\n",
              "      <td>...</td>\n",
              "      <td>...</td>\n",
              "      <td>...</td>\n",
              "      <td>...</td>\n",
              "      <td>...</td>\n",
              "      <td>...</td>\n",
              "      <td>...</td>\n",
              "      <td>...</td>\n",
              "    </tr>\n",
              "    <tr>\n",
              "      <th>116</th>\n",
              "      <td>A. Hakimi</td>\n",
              "      <td>21</td>\n",
              "      <td>RM</td>\n",
              "      <td>83</td>\n",
              "      <td>88</td>\n",
              "      <td>Inter</td>\n",
              "      <td>90000</td>\n",
              "      <td>2150</td>\n",
              "    </tr>\n",
              "    <tr>\n",
              "      <th>117</th>\n",
              "      <td>M. Aarons</td>\n",
              "      <td>20</td>\n",
              "      <td>RB</td>\n",
              "      <td>74</td>\n",
              "      <td>83</td>\n",
              "      <td>Norwich City</td>\n",
              "      <td>8000</td>\n",
              "      <td>1788</td>\n",
              "    </tr>\n",
              "    <tr>\n",
              "      <th>118</th>\n",
              "      <td>E. Smith Rowe</td>\n",
              "      <td>19</td>\n",
              "      <td>CAM</td>\n",
              "      <td>73</td>\n",
              "      <td>85</td>\n",
              "      <td>Arsenal</td>\n",
              "      <td>30000</td>\n",
              "      <td>1719</td>\n",
              "    </tr>\n",
              "    <tr>\n",
              "      <th>119</th>\n",
              "      <td>Renato Sanches</td>\n",
              "      <td>22</td>\n",
              "      <td>CM</td>\n",
              "      <td>79</td>\n",
              "      <td>85</td>\n",
              "      <td>LOSC Lille</td>\n",
              "      <td>36000</td>\n",
              "      <td>2176</td>\n",
              "    </tr>\n",
              "    <tr>\n",
              "      <th>5253</th>\n",
              "      <td>Eric García</td>\n",
              "      <td>19</td>\n",
              "      <td>CB</td>\n",
              "      <td>75</td>\n",
              "      <td>85</td>\n",
              "      <td>Manchester City</td>\n",
              "      <td>42000</td>\n",
              "      <td>1693</td>\n",
              "    </tr>\n",
              "  </tbody>\n",
              "</table>\n",
              "<p>121 rows × 8 columns</p>\n",
              "</div>"
            ],
            "text/plain": [
              "                 Nome  Idade Posicao  ...             Time  Salario Total_Pontos\n",
              "0          G. Obertan     31     CAM  ...   BB Erzurumspor     7000         1753\n",
              "1            P. Foden     20     CAM  ...  Manchester City    95000         1997\n",
              "2           S. García     29      ST  ...       Godoy Cruz    12000         1847\n",
              "3             Trincão     20      RW  ...     FC Barcelona    95000         1906\n",
              "4           A. Gignac     34      ST  ...  Tigres U.A.N.L.    66000         2018\n",
              "...               ...    ...     ...  ...              ...      ...          ...\n",
              "116         A. Hakimi     21      RM  ...            Inter    90000         2150\n",
              "117         M. Aarons     20      RB  ...     Norwich City     8000         1788\n",
              "118     E. Smith Rowe     19     CAM  ...          Arsenal    30000         1719\n",
              "119    Renato Sanches     22      CM  ...       LOSC Lille    36000         2176\n",
              "5253      Eric García     19      CB  ...  Manchester City    42000         1693\n",
              "\n",
              "[121 rows x 8 columns]"
            ]
          },
          "metadata": {
            "tags": []
          },
          "execution_count": 124
        }
      ]
    }
  ]
}