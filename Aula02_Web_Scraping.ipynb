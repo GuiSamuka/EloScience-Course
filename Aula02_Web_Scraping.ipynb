{
  "nbformat": 4,
  "nbformat_minor": 0,
  "metadata": {
    "colab": {
      "name": "Aula02 - Web Scraping.ipynb",
      "provenance": [],
      "mount_file_id": "1E5ivJS5qGDSRIGwtA68DLI6uqlUey5x5",
      "authorship_tag": "ABX9TyM82L1LgP706RilbNEuiJ3D",
      "include_colab_link": true
    },
    "kernelspec": {
      "name": "python3",
      "display_name": "Python 3"
    }
  },
  "cells": [
    {
      "cell_type": "markdown",
      "metadata": {
        "id": "view-in-github",
        "colab_type": "text"
      },
      "source": [
        "<a href=\"https://colab.research.google.com/github/GuiSamuka/EloScience-Course/blob/main/Aula02_Web_Scraping.ipynb\" target=\"_parent\"><img src=\"https://colab.research.google.com/assets/colab-badge.svg\" alt=\"Open In Colab\"/></a>"
      ]
    },
    {
      "cell_type": "markdown",
      "metadata": {
        "id": "-UgNKxD7nMZj"
      },
      "source": [
        "## **Importar as bibiotecas**"
      ]
    },
    {
      "cell_type": "code",
      "metadata": {
        "id": "dpdvKCwMnAs_"
      },
      "source": [
        "# dataframes e manipulações\r\n",
        "import pandas as pd\r\n",
        "\r\n",
        "# requisitar dados do site\r\n",
        "import requests\r\n",
        "\r\n",
        "# inspecionar HTML\r\n",
        "from bs4 import BeautifulSoup"
      ],
      "execution_count": 2,
      "outputs": []
    },
    {
      "cell_type": "markdown",
      "metadata": {
        "id": "GxqeTY2CnzE7"
      },
      "source": [
        "## **Obter os dados dos jogadores**"
      ]
    },
    {
      "cell_type": "code",
      "metadata": {
        "id": "BAk89xeyn2Is"
      },
      "source": [
        "url = 'https://sofifa.com/players?offset='"
      ],
      "execution_count": 3,
      "outputs": []
    },
    {
      "cell_type": "code",
      "metadata": {
        "id": "9Jp8Kj6joMl3"
      },
      "source": [
        "colunas = ['Nome', 'Idade', 'Posicao', 'Media', 'Potencial', 'Time', 'Salario', 'Total_Pontos']"
      ],
      "execution_count": 4,
      "outputs": []
    },
    {
      "cell_type": "code",
      "metadata": {
        "id": "gBdhyBEDo1mp"
      },
      "source": [
        "dados = pd.DataFrame(columns=colunas)\r\n",
        "dados.head()"
      ],
      "execution_count": 7,
      "outputs": []
    },
    {
      "cell_type": "code",
      "metadata": {
        "id": "t3juLT1opHLO"
      },
      "source": [
        "for offset in range(0,100):\r\n",
        "  url = url + str(offset*61)\r\n",
        "  p_html = requests.get(url)\r\n",
        "  p_soup = p_html.text\r\n",
        "  data = BeautifulSoup(p_soup, 'html.parser')\r\n",
        "  table = data.find('tbody')\r\n",
        "  for i in table.findAll('tr'):\r\n",
        "    td = i.findAll('td')\r\n",
        "    Nome = td[1].findAll('a')[0].text\r\n",
        "    Idade  = td[2].text\r\n",
        "    Posicao = td[1].findAll('a')[1].text\r\n",
        "    Media = td[3].find('span').text\r\n",
        "    Potencial = td[4].find('span').text\r\n",
        "    Time = td[5].find('a').text\r\n",
        "    Salario = td[7].text.strip() \r\n",
        "    Total_Pontos = td[8].text.strip()\r\n",
        "\r\n",
        "    dados_jogadores = pd.DataFrame([[Nome, Idade, Posicao, Media, Potencial, Time, Salario, Total_Pontos]])\r\n",
        "\r\n",
        "    dados_jogadores.columns = colunas\r\n",
        "    \r\n",
        "    dados = dados.append(dados_jogadores, ignore_index=True)"
      ],
      "execution_count": 15,
      "outputs": []
    },
    {
      "cell_type": "code",
      "metadata": {
        "colab": {
          "base_uri": "https://localhost:8080/"
        },
        "id": "12NJwlpit2va",
        "outputId": "25896458-88d1-4231-e25d-ed31457197d9"
      },
      "source": [
        "print(dados)"
      ],
      "execution_count": 16,
      "outputs": [
        {
          "output_type": "stream",
          "text": [
            "                    Nome Idade Posicao  ...               Time Salario Total_Pontos\n",
            "0               O. Kabak    20      CB  ...      FC Schalke 04    €17K         1714\n",
            "1              B. Davies    24      CB  ...  Preston North End    €18K         1760\n",
            "2      20 Han Kwang Song    20      ST  ...           Cagliari    €14K         1698\n",
            "3            T. Minamino    25      RW  ...          Liverpool    €74K         1938\n",
            "4              O. Ntcham    24      CM  ...             Celtic    €30K         2008\n",
            "...                  ...   ...     ...  ...                ...     ...          ...\n",
            "6595           J. Koundé    21      CB  ...         Sevilla FC    €23K         1835\n",
            "6596            M. Hoppe    19      ST  ...      FC Schalke 04     €4K         1482\n",
            "6597     Bruno Fernandes    25     CAM  ...  Manchester United   €240K         2336\n",
            "6598        M. Greenwood    18      RM  ...  Manchester United    €33K         1922\n",
            "6599          M. Mohamed    22      ST  ...                         €0         1786\n",
            "\n",
            "[6600 rows x 8 columns]\n"
          ],
          "name": "stdout"
        }
      ]
    },
    {
      "cell_type": "markdown",
      "metadata": {
        "id": "rrPeElqtuRhb"
      },
      "source": [
        "### **Exportar os nossos Dados**"
      ]
    },
    {
      "cell_type": "code",
      "metadata": {
        "id": "DcEa1NxSuUN3"
      },
      "source": [
        "dados.to_csv('sds_fifa.csv', encoding='utf-8', index=True)"
      ],
      "execution_count": 19,
      "outputs": []
    },
    {
      "cell_type": "code",
      "metadata": {
        "id": "eVudnoXPu7lT"
      },
      "source": [
        "dados.to_excel('sds_fifa.xlsx', index=True)"
      ],
      "execution_count": 20,
      "outputs": []
    }
  ]
}